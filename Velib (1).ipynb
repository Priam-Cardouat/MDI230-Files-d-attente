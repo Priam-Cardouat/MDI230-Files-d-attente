{
 "cells": [
  {
   "cell_type": "markdown",
   "id": "5b1f0155",
   "metadata": {},
   "source": [
    "# MDI 230 - Projet Velib \n",
    "Priam CARDOUAT, Célia DOCLOT, Nicolas WITTMANN"
   ]
  },
  {
   "cell_type": "markdown",
   "id": "76451f1d",
   "metadata": {},
   "source": [
    "## Initialisation"
   ]
  },
  {
   "cell_type": "code",
   "execution_count": 1,
   "id": "ed0f065d",
   "metadata": {},
   "outputs": [],
   "source": [
    "import numpy as np\n",
    "import matplotlib.pyplot as plt\n",
    "from numba import jit"
   ]
  },
  {
   "cell_type": "code",
   "execution_count": 2,
   "id": "43959582",
   "metadata": {},
   "outputs": [],
   "source": [
    "P = np.array([[0, 0.22, 0.32, 0.2, 0.26],\n",
    "              [0.17, 0, 0.34, 0.21, 0.28], \n",
    "              [0.19, 0.26, 0, 0.24, 0.31], \n",
    "              [0.17, 0.22, 0.33, 0, 0.28], \n",
    "              [0.18, 0.24, 0.35, 0.23, 0]])\n",
    "\n",
    "#On passe tout en seconde\n",
    "Lambda = np.array([2.8, 3.7, 5.5, 3.5, 4.6])/3600\n",
    "\n",
    "tau = np.array([[0, 3, 5, 7, 7],\n",
    "                [2, 0, 2, 5, 5], \n",
    "                [4, 2, 0, 3, 3], \n",
    "                [8, 6, 4, 0, 2], \n",
    "                [7, 7, 5, 2, 0]])*60\n",
    "\n",
    "# Conditions initiales\n",
    "n_i_0 = np.array([20, 15, 17, 13, 18])\n",
    "\n",
    "n_tijj_0 = np.array([[0, 1, 0, 0, 0],\n",
    "                    [1, 0, 1, 0, 0], \n",
    "                    [0, 1, 0, 1, 0], \n",
    "                    [0, 0, 1, 0, 1], \n",
    "                    [0, 0, 0, 1, 0]])\n",
    "etat_1 = np.diag(n_i_0) + n_tijj_0"
   ]
  },
  {
   "cell_type": "markdown",
   "id": "6447f83c",
   "metadata": {},
   "source": [
    "## Simulation\n",
    "\n",
    "### Q3"
   ]
  },
  {
   "cell_type": "code",
   "execution_count": 3,
   "id": "3c165345",
   "metadata": {},
   "outputs": [],
   "source": [
    "@jit\n",
    "def determine_etat(etats, lambda_tot):\n",
    "    \"\"\"\n",
    "    Cette fonction permet de determiner quel changement a eu lieu parmi tous les changements possibles. \n",
    "    Tous les changements suivent une loi exponentielle donc le prochain évènement suit une loi exponentielle \n",
    "    de paramètre la somme des paramètres des évènements possibles (lambda_tot). Pour déterminer lequel a eu lieu \n",
    "    on utilise le fait que la probabilité que l'évènement i de paramètre lambda_i soit celui qui a eu lieu est \n",
    "    lambda_i / lambda_tot avec somme des lambda_i = lambda_tot.\n",
    "    \n",
    "    \n",
    "    Input : \n",
    "    - etats : np.array de shape 5x5 qui représente le nombre de vélos par endroit \n",
    "                en i,i il y a le nombre de vélos dans la station i et en i,j \n",
    "                le nombre de vélos en route pour la station j depuis la i\n",
    "    - lambda_tot : le paramètre selon lequel on a tiré t, l'instant du prochain changement d'état\n",
    "    \n",
    "    Output : \n",
    "    - tuple de taille 4 : les deux premiers désignent la case de la matrice dont part le vélo et les deux derniers \n",
    "    ceux où va le vélo.\n",
    "    \"\"\"\n",
    "    \n",
    "    tirage = np.random.random()\n",
    "    p = 0\n",
    "    #On commence par les évènements \"départ d'une station i vers j\"\n",
    "    #Ils suivent une loi exponentielle de paramètre lambda_i * p_ij s'il y a un véli dans la station i \n",
    "    for j in range(5):\n",
    "        for i in range(5):\n",
    "            if i != j:\n",
    "                p += Lambda[i]*P[i][j]*(etats[i][i] > 0)\n",
    "                if p/lambda_tot > tirage:\n",
    "                      return i, i, i, j\n",
    "                    \n",
    "    #Ensuite il y a les évènements \"un vélo se gare dans la station j après être parti de i\"\n",
    "    #Ces évènements dépendent du nombre de vélos en trajet de i vers j : ils suivent tous une loi de \n",
    "    #paramètre 1/tau_ij mais on s'intéresse au minimum dont le paramètres est donc etats[i][j]/tau[i][j]\n",
    "    for j in range(5):\n",
    "        for i in range(5):\n",
    "            if i != j:\n",
    "                p += etats[i][j]/tau[i][j]\n",
    "                if p/lambda_tot > tirage:\n",
    "                      return i, j, j, j\n",
    "\n",
    "@jit\n",
    "def simulation(etat_0, t_f):\n",
    "    \"\"\"\n",
    "    Cette fonction simule l'évolution du nombre de vélos dans les stations et entre les stations dans le temps\n",
    "    dans le cadre de notre modélisation du fonctionnement du Vélib à Rennes.\n",
    "    \n",
    "    Input : \n",
    "    - etat_0 : position initiale des vélos, détermine aussi le nombre de vélos dans le système\n",
    "                np.array de shape 5x5 qui représente le nombre de vélos par endroit \n",
    "                en i,i il y a le nombre de vélos dans la station i et en i,j \n",
    "                le nombre de vélos en route pour la station j depuis la i\n",
    "    - t_f : durée de la simulation en seconde \n",
    "    \n",
    "    Output : \n",
    "    - evolution : la liste des matrices d'état au cours du temps\n",
    "    - T : les instants auxquels correspondent les changements\n",
    "    \"\"\"\n",
    "    \n",
    "    etats = etat_0.copy()\n",
    "    t = 0\n",
    "    T = [0]\n",
    "    evolution = [etats]\n",
    "    \n",
    "    while (t < t_f):\n",
    "        #lambda_tot est le paramètre de la loi exponentielle décrivant le moment du prochain changement d'état\n",
    "        lambda_tot = 0  \n",
    "        for i in range(5):\n",
    "            for j in range(5):\n",
    "                if i != j:\n",
    "                    #Evènement départ de la station i pour la station j, nécessite la présence de vélo en i\n",
    "                    lambda_tot += Lambda[i]*P[i][j]*(etats[i][i] > 0)\n",
    "                    \n",
    "                    #Evènement arrivée en j depuis la station i, la loi est le minimum de toutes les lois suivient \n",
    "                    #par les vélos en chemin \n",
    "                    lambda_tot += etats[i][j]/tau[i][j]\n",
    "        \n",
    "        #Temps entre le dernier changement d'état et le nouveau \n",
    "        temps = np.random.exponential(1/lambda_tot)\n",
    "        if temps > t_f :\n",
    "            break\n",
    "        t += temps\n",
    "        T.append(t)\n",
    "        # Mise à jour des états\n",
    "        i0, j0, i1, j1 = determine_etat(etats, lambda_tot) #On choisit l'état qui change\n",
    "        etats[i0][j0] -= 1 #on fait les transitions\n",
    "        etats[i1][j1] += 1\n",
    "        etats_bis = etats.copy()\n",
    "        evolution += [etats_bis]\n",
    "        \n",
    "    return evolution, T\n",
    "\n",
    "\n",
    "#On crée le graph en ne gardant que le nombre de vélos par station car on ne peux pas afficher \n",
    "#25 courbes sur le même graph\n",
    "def graph_simu(evolution, T):\n",
    "    for k in range(5):\n",
    "        plt.plot(T,[state[k][k] for state in evolution], label=\"Station \"+str(3+k))\n",
    "    plt.legend(loc=\"best\")\n",
    "    plt.show()"
   ]
  },
  {
   "cell_type": "code",
   "execution_count": 4,
   "id": "2a235ca3",
   "metadata": {},
   "outputs": [
    {
     "data": {
      "image/png": "[encoded data removed]",
      "text/plain": [
       "<Figure size 432x288 with 1 Axes>"
      ]
     },
     "metadata": {
      "needs_background": "light"
     },
     "output_type": "display_data"
    }
   ],
   "source": [
    "#On teste pour 1heure = 3600s : \n",
    "e,t = simulation(etat_1, 3600) \n",
    "graph_simu(e,t)"
   ]
  },
  {
   "cell_type": "markdown",
   "id": "9b17a2fc",
   "metadata": {},
   "source": [
    "## Q4 et 5"
   ]
  },
  {
   "cell_type": "code",
   "execution_count": 5,
   "id": "f94f7053",
   "metadata": {},
   "outputs": [],
   "source": [
    "def stations_vides(nb_iterations, etat_0, t_f, beta = 1.96, print_results = True): \n",
    "    \"\"\"\n",
    "    Cette fonction calcule la probabilité qu'une station soit vide à t_f avec son intervalle de confiance. On considère \n",
    "    que t_f est assez grand pour atteindre le régime stationnaire et que etat_0 n'aura pas de réel impact sur la distribution\n",
    "    finale en dehors du fait qu'il fixe le nombre de vélos dans la simulation.\n",
    "    \n",
    "    Input : \n",
    "    - nb_iterations : nombre de simulations qu'on fait pour estimer la probabilité\n",
    "    - etat_0 : état initial pour les simulations \n",
    "    - t_f : heure de fin de la simulation instant auquel on estime si la station est vide ou non\n",
    "    - beta : coefficient multiplicateur correspondant au pourcentage de certitude que l'on cherche\n",
    "             par défaut = 1.96 ce qui correspond à 95%\n",
    "    - print_results : booleen qui demande si on veut print les intervalles ou juste avoir les probabilités\n",
    "    \n",
    "    Output : \n",
    "    - compt : les probabilités par stations qu'elles soient vide à t_f \n",
    "    \"\"\"\n",
    "    \n",
    "    compt = [0] * 5\n",
    "    for i in range(nb_iterations):\n",
    "        etat_final = simulation(etat_0, t_f)[0][-1]\n",
    "        for k in range(5):\n",
    "            #On regarde si la station est vide à t_f\n",
    "            if np.diag(etat_final)[k] == 0:\n",
    "                compt[k] += 1 #Si c'est le cas on incrémente le compteur \n",
    "\n",
    "    for k in range(5):\n",
    "        compt[k] /= nb_iterations\n",
    "        compt = np.array(compt)\n",
    "        \n",
    "    ecart_type = np.sqrt(nb_iterations*(compt-compt**2)/(nb_iterations-1))\n",
    "    \n",
    "    marge = beta * ecart_type/np.sqrt(nb_iterations)\n",
    "    \n",
    "    if print_results : \n",
    "        for i in range(5):\n",
    "            print(\"Probabilité que la station %i soit vide au bout de %i h : [ %f +- %f ]\"%(i+3, t_f//3600, compt[i], marge[i]))\n",
    "    \n",
    "    return compt, marge "
   ]
  },
  {
   "cell_type": "code",
   "execution_count": 6,
   "id": "f0d804f9",
   "metadata": {},
   "outputs": [
    {
     "name": "stdout",
     "output_type": "stream",
     "text": [
      "Probabilité que la station 3 soit vide au bout de 150 h : [ 0.010000 +- 0.019600 ]\n",
      "Probabilité que la station 4 soit vide au bout de 150 h : [ 0.040000 +- 0.038601 ]\n",
      "Probabilité que la station 5 soit vide au bout de 150 h : [ 0.170000 +- 0.073995 ]\n",
      "Probabilité que la station 6 soit vide au bout de 150 h : [ 0.060000 +- 0.046782 ]\n",
      "Probabilité que la station 7 soit vide au bout de 150 h : [ 0.100000 +- 0.059096 ]\n"
     ]
    }
   ],
   "source": [
    "c, m = stations_vides(100, etat_1, 150*3600)"
   ]
  },
  {
   "cell_type": "markdown",
   "id": "af668c21",
   "metadata": {},
   "source": [
    "## Calcul Théorique"
   ]
  },
  {
   "cell_type": "markdown",
   "id": "6c8acccc",
   "metadata": {},
   "source": [
    "### Q6 \n",
    "\n",
    "Soit $E = \\{0, 1, 2, 3, 4, t_{01}, t_{02}... \\}$ et $G = \\{0, 1, 2, 3, 4\\}$, les équations de traffic sont : \n",
    "$\n",
    "\\left\\{\n",
    "    \\begin{array}{ll}\n",
    "        \\forall j \\in E, \\alpha_j > 0 \\\\\n",
    "        \\sum_{j\\in E} \\alpha_j = 1 \\\\\n",
    "        \\forall j \\in E, \\alpha_j \\sum_{k \\in E} \\lambda_{jk} = \\sum_{k\\in E} \\alpha_k \\lambda_{kj}\n",
    "    \\end{array}\n",
    "\\right.\n",
    "$\n",
    "\n",
    "Mais on sait : \n",
    "\n",
    "Si $k$ est un trajet $\\lambda_{jk} = 0$ si $j$ n'est pas le point de départ du trajet, sinon $\\lambda_{jk} = p_{jk}\\lambda_j$ avec les notations des consignes.\n",
    "Si $k$ est une station alors $\\lambda_{jk} = 0$ si $j$ n'est pas un trajet à destination de $k$, sinon $\\lambda_{jk} = 1/\\tau_{j}$ avec $j$ représentant départ et arrivée.\n",
    "\n",
    "Donc on peut simplifier avec : \n",
    "\n",
    "$\n",
    "\\left\\{\n",
    "    \\begin{array}{ll}\n",
    "        \\forall j \\in E, \\alpha_j > 0 \\\\\n",
    "        \\sum_{j\\in E} \\alpha_j = 1 \\\\\n",
    "        \\forall j \\in G, \\alpha_j \\sum_{k\\in G \\\\ k\\neq j}\\lambda_{j,t_{j,k}} = \\sum_{k\\in G \\\\ k\\neq j} \\alpha_{t_{kj}}\\lambda_{t_{kj}, j} \\\\\n",
    "        \\forall i,j \\in G, i\\neq j, \\alpha_{t_{ij}} \\lambda_{t_{ij}, j} = \\alpha_i \\lambda_{i, t_{ij}}\n",
    "    \\end{array}\n",
    "\\right.\n",
    "$\n",
    "\n",
    "En remplaçant par les valeurs données ci-dessus on obtient : \n",
    "\n",
    "$\n",
    "\\left\\{\n",
    "    \\begin{array}{ll}\n",
    "        \\forall j \\in E, \\alpha_j > 0 \\\\\n",
    "        \\sum_{j\\in E} \\alpha_j = 1 \\\\\n",
    "        \\forall j \\in G, \\alpha_j \\lambda_j \\sum_{k\\in G \\\\ k\\neq j} p_{jk} = \\alpha_j \\lambda_j = \\sum_{k\\in G \\\\ k\\neq j} \\alpha_{t_{kj}} / \\tau_{kj} \\\\\n",
    "        \\forall j,k \\in G, k\\neq j, \\alpha_{t_{jk}} / \\tau_{jk} = \\alpha_j p_{jk} \\lambda_j\n",
    "    \\end{array}\n",
    "\\right.\n",
    "$\n",
    "\n",
    "On peut remplacer les $\\alpha_{t_{kj}} / \\tau_{kj}$ de la 3ème équation par ceux de la 4ème. On obtient : \n",
    "\n",
    "$\\forall j \\in G, \\alpha_j \\lambda_j = \\sum_{k\\in G \\\\ k\\neq j} \\alpha_k p_{kj} \\lambda_k$ (1)\n",
    "\n",
    "Avec la deuxième équation on peut donc conclure : \n",
    "\n",
    "$\\sum_{j \\in G} (\\alpha_j + \\sum_{k\\in G \\\\ k\\neq j}\\alpha_{t_{jk}}) = \\sum_{j \\in G} \\alpha_j (1 + \\sum_{k\\in G \\\\ k\\neq j}p_{jk}\\lambda_j \\tau_{jk}) = 1$ (2)"
   ]
  },
  {
   "cell_type": "markdown",
   "id": "20cff67c",
   "metadata": {},
   "source": [
    "L'équation (1) peut se mettre sous forme matricielle ce qui nous donne un espace vectoriel dont on ne garde que l'élément satisfaisant la condition (2).\n",
    "______________\n",
    "\n",
    "(1) <=> \\begin{pmatrix}\n",
    "  -\\lambda0 & p_{10}\\lambda_1 & p_{20}\\lambda_2 & p_{30}\\lambda_3 & p_{40}\\lambda_4 \\\\\n",
    "  p_{01}\\lambda_0 & -\\lambda_1 & p_{21}\\lambda_2 & p_{31}\\lambda_3 & p_{41}\\lambda_4 \\\\\n",
    "  p_{02}\\lambda_0 &  p_{12}\\lambda_2 &-\\lambda_2 & p_{32}\\lambda_3 & p_{42}\\lambda_4 \\\\\n",
    "  p_{03}\\lambda_0 & p_{13}\\lambda_1 & p_{23}\\lambda_2 & -\\lambda_3 & p_{43}\\lambda_4 \\\\\n",
    "  p_{04}\\lambda_0  & p_{14}\\lambda_1 & p_{24}\\lambda_2 & p_{34}\\lambda_3 & -\\lambda_4\\\\\n",
    "\\end{pmatrix} * \\begin{pmatrix}\n",
    "\\alpha_0 \\\\\n",
    "\\alpha_1 \\\\\n",
    "\\alpha_2 \\\\\n",
    "\\alpha_3 \\\\\n",
    "\\alpha_4 \\\\\n",
    "\\end{pmatrix} = \n",
    "\\begin{pmatrix}\n",
    "0 \\\\ 0 \\\\ 0 \\\\ 0 \\\\ 0 \\\\ \n",
    "\\end{pmatrix}\n",
    "\n",
    "______________\n",
    "\n",
    "(2) <=> \\begin{pmatrix}\n",
    "  1 + \\lambda_0 \\sum_{k\\in G \\\\ k\\neq 0}p_{0k} \\tau_{0k} & \n",
    "  1 + \\lambda_1 \\sum_{k\\in G \\\\ k\\neq 1}p_{1k} \\tau_{1k} & \n",
    "  1 + \\lambda_2 \\sum_{k\\in G \\\\ k\\neq 2}p_{2k} \\tau_{2k} & \n",
    "  1 + \\lambda_3 \\sum_{k\\in G \\\\ k\\neq 3}p_{3k} \\tau_{3k} & \n",
    "  1 + \\lambda_4 \\sum_{k\\in G \\\\ k\\neq 4}p_{4k} \\tau_{4k} \\\\\n",
    "\\end{pmatrix} * \\begin{pmatrix}\n",
    "\\alpha_0 \\\\\n",
    "\\alpha_1 \\\\\n",
    "\\alpha_2 \\\\\n",
    "\\alpha_3 \\\\\n",
    "\\alpha_4 \\\\\n",
    "\\end{pmatrix} = \n",
    "\\begin{pmatrix}\n",
    "1 \\\\ \n",
    "\\end{pmatrix}"
   ]
  },
  {
   "cell_type": "markdown",
   "id": "2884ae49",
   "metadata": {},
   "source": [
    "Maintenant on résoud numériquement : "
   ]
  },
  {
   "cell_type": "code",
   "execution_count": 7,
   "id": "65b5e479",
   "metadata": {},
   "outputs": [],
   "source": [
    "M = np.diag(-Lambda) + P*Lambda\n",
    "e, v = np.linalg.eig(M)\n",
    "ker = v.T[np.where(e < 10**(-10))[0][0]]"
   ]
  },
  {
   "cell_type": "markdown",
   "id": "b3b90dfe",
   "metadata": {},
   "source": [
    "$(\\alpha_i)_{i\\in G}$ est donc de la forme c * ker avec c satisfaisant la condition (2)."
   ]
  },
  {
   "cell_type": "code",
   "execution_count": 8,
   "id": "a02c2db4",
   "metadata": {},
   "outputs": [],
   "source": [
    "cond2 = np.sum(P*tau, axis = 0) * Lambda + np.ones(5)\n",
    "c = cond2.dot(ker)\n",
    "alphas = ker / c"
   ]
  },
  {
   "cell_type": "code",
   "execution_count": 9,
   "id": "a67d6a5c",
   "metadata": {},
   "outputs": [
    {
     "data": {
      "text/plain": [
       "array([0.21358044, 0.16162844, 0.10873186, 0.17086435, 0.13000549])"
      ]
     },
     "execution_count": 9,
     "metadata": {},
     "output_type": "execute_result"
    }
   ],
   "source": [
    "alphas"
   ]
  },
  {
   "cell_type": "markdown",
   "id": "fbc0c70c",
   "metadata": {},
   "source": [
    "Avec ceux-ci, nous pouvons aisément retrouver les 20 derniers avec $\\forall j,k \\in G, k\\neq j, \\alpha_{t_{jk}} = \\tau_{jk} \\alpha_j p_{jk} \\lambda_j$"
   ]
  },
  {
   "cell_type": "code",
   "execution_count": 10,
   "id": "608f23f4",
   "metadata": {},
   "outputs": [],
   "source": [
    "alphas_restants = [alphas*Lambda[i] * (P*tau)[i] for i in range(len(Lambda))]\n",
    "alphas_fin = np.diag(alphas) + alphas_restants "
   ]
  },
  {
   "cell_type": "code",
   "execution_count": 11,
   "id": "e80c5eb6",
   "metadata": {},
   "outputs": [
    {
     "data": {
      "text/plain": [
       "1.0004531583304235"
      ]
     },
     "execution_count": 11,
     "metadata": {},
     "output_type": "execute_result"
    }
   ],
   "source": [
    "np.sum(alphas_fin)"
   ]
  },
  {
   "cell_type": "markdown",
   "id": "5241f4c9",
   "metadata": {},
   "source": [
    "### Q7 \n",
    "\n",
    "Dans notre modélisation nous avons $S^2$ coloniées avec $S$ le nombre de stations, ce qui fait donc ici 25 colonies. Nous avons exactement 1 Vélib qui est toujours dans une de ces colonies et qui peut aller dans chacune d'entre elles. Il y a donc 25 états possibles qui sont les vecteurs $e_i = (0, 0, ..., 1, 0, ..., 0, 0)$ de longueur 25 et avec le $1$ en position $i \\in \\{1, 2, ..., 25\\}$.  \n",
    "**L'espace d'état est de dimension 25.**"
   ]
  },
  {
   "cell_type": "markdown",
   "id": "2d3fa822",
   "metadata": {},
   "source": [
    "### Q8\n",
    "\n",
    "La probabilité qu'une station i soit vide dans l'état final/d'équilibre est $1 - \\mathbb P(i \\neq 0) = 1 - \\mathbb P(i = 1) = 1 - \\alpha[i]$"
   ]
  },
  {
   "cell_type": "code",
   "execution_count": 12,
   "id": "df9b5d30",
   "metadata": {},
   "outputs": [
    {
     "name": "stdout",
     "output_type": "stream",
     "text": [
      "La probabilité que la station 3 soit vide est de 0.786420\n",
      "La probabilité que la station 4 soit vide est de 0.838372\n",
      "La probabilité que la station 5 soit vide est de 0.891268\n",
      "La probabilité que la station 6 soit vide est de 0.829136\n",
      "La probabilité que la station 7 soit vide est de 0.869995\n"
     ]
    }
   ],
   "source": [
    "for i in range(len(alphas)): \n",
    "    print(\"La probabilité que la station %i soit vide est de %f\" %(i+3, 1-alphas[i]))"
   ]
  },
  {
   "cell_type": "markdown",
   "id": "723a72f8",
   "metadata": {},
   "source": [
    "### Q9 \n",
    "\n",
    "On réutilise la fonction simulation avec un état initial ne contenant qu'un vélo."
   ]
  },
  {
   "cell_type": "code",
   "execution_count": 13,
   "id": "94c07ba6",
   "metadata": {},
   "outputs": [
    {
     "name": "stdout",
     "output_type": "stream",
     "text": [
      "Probabilité que la station 3 soit vide au bout de 150 h : [ 0.968000 +- 0.010914 ]\n",
      "Probabilité que la station 4 soit vide au bout de 150 h : [ 0.959000 +- 0.012296 ]\n",
      "Probabilité que la station 5 soit vide au bout de 150 h : [ 0.947000 +- 0.013893 ]\n",
      "Probabilité que la station 6 soit vide au bout de 150 h : [ 0.951000 +- 0.013386 ]\n",
      "Probabilité que la station 7 soit vide au bout de 150 h : [ 0.954000 +- 0.012991 ]\n"
     ]
    }
   ],
   "source": [
    "etat_2 = np.zeros((5,5))\n",
    "etat_2[0][0] = 1\n",
    "c,m = stations_vides(1000, etat_2, 150*3600)"
   ]
  },
  {
   "cell_type": "markdown",
   "id": "57f961f9",
   "metadata": {},
   "source": [
    "## Simulation pour 100 vélos \n",
    "\n",
    "### Q10"
   ]
  },
  {
   "cell_type": "code",
   "execution_count": 14,
   "id": "38544291",
   "metadata": {},
   "outputs": [
    {
     "name": "stdout",
     "output_type": "stream",
     "text": [
      "Probabilité que la station 3 soit vide au bout de 150 h : [ 0.020000 +- 0.027578 ]\n",
      "Probabilité que la station 4 soit vide au bout de 150 h : [ 0.030000 +- 0.033604 ]\n",
      "Probabilité que la station 5 soit vide au bout de 150 h : [ 0.170000 +- 0.073995 ]\n",
      "Probabilité que la station 6 soit vide au bout de 150 h : [ 0.020000 +- 0.027578 ]\n",
      "Probabilité que la station 7 soit vide au bout de 150 h : [ 0.080000 +- 0.053441 ]\n"
     ]
    }
   ],
   "source": [
    "etat_3 = np.ones((5,5))*4\n",
    "c,m = stations_vides(100, etat_3, 150*3600)"
   ]
  },
  {
   "cell_type": "markdown",
   "id": "0dfb3484",
   "metadata": {},
   "source": [
    "Les probabilités sont beaucoup plus faibles car il y a beaucoup plus de vélos."
   ]
  },
  {
   "cell_type": "markdown",
   "id": "b55d2786",
   "metadata": {},
   "source": [
    "### Q11\n",
    "\n",
    "Pour étudier le régime stationnaire dans le cas de 100 vélos nous allons étudier la simulation sur longtemps et nous allons étudier les boucles de celle-ci, c'est-à-dire en combien de temps et en passant par quoi la simulation revient à son point de départ."
   ]
  },
  {
   "cell_type": "code",
   "execution_count": 15,
   "id": "ccf042f3",
   "metadata": {},
   "outputs": [],
   "source": [
    "@jit\n",
    "def cycles(ev, n) : \n",
    "    \"\"\"\n",
    "    Cette fonction cherche à établir, parmi les n premiers états de ev, lequel est le plus réccurent.\n",
    "    \n",
    "    Input : \n",
    "    - ev : liste de matrices décrivant l'état du système, output de simulation\n",
    "    - n : nombre d'état dont on étudie la récurrence\n",
    "    \n",
    "    Output : \n",
    "    - cycle : indices de l'état le plus récurrent de ev\n",
    "    \"\"\"\n",
    "\n",
    "    taille_max = 2\n",
    "    cycle = []\n",
    "    for i in range(n) : \n",
    "        c = []\n",
    "        for j in range(len(ev)):\n",
    "            if (ev[j] == ev[i]).all() : #l'état i et j sont parfaitement identiques\n",
    "                c.append(j)\n",
    "        if len(c)>= taille_max : \n",
    "            cycle = c.copy()\n",
    "            taille_max = len(c)\n",
    "    return cycle"
   ]
  },
  {
   "cell_type": "code",
   "execution_count": 16,
   "id": "89835621",
   "metadata": {},
   "outputs": [],
   "source": [
    "def simu_regenerative(etat_0, t_f, n_cycle, print_results = True) : \n",
    "    \"\"\"\n",
    "    Cette fonction cherche les probabilités stationnaires que chaque station soit vide. Pour cela, on utilise les simulations\n",
    "    régénératives en sommant, pour la station i, les probabilités des états dont la station i est vide. \n",
    "    \n",
    "    Input : \n",
    "    - etat_0 : matrice d'état initial, la répartition compte peu mais le nombre de vélos dans la simulation (défini\n",
    "               par etat_0) est important\n",
    "    - t_f : la longueur de la simulation qui nous permettra de trouver les cycles\n",
    "    - n_cycle : paramètre n de la fonction cycles, entier\n",
    "    - print_result : booléen qui détermine si on veut que les résultats ou si on veut les print avec détails\n",
    "    \n",
    "    Output :\n",
    "    - moy : liste des probabilités que les stations soient vides\n",
    "    - marge : nombre à ajouter et à soustraire à moy pour avoir l'intervalle de confiance à 95% de l'estimation\n",
    "    \"\"\"\n",
    "    \n",
    "    evolution, _ = simulation(etat_0, t_f)\n",
    "    cycle = cycles(evolution, n_cycle)\n",
    "    R = len(cycle) - 1\n",
    "    print(\"On a %i cycles\"%(R))\n",
    "    \n",
    "\n",
    "    Y, T = np.zeros((R, 5)), np.zeros(R) #Matrice des Y_k et liste des d_K \n",
    "    for i in range(R) : \n",
    "        T[i] = cycle[i+1] - cycle[i]\n",
    "        for j in range(cycle[i], cycle[i+1]) : \n",
    "            for station in range(5) : \n",
    "                if evolution[j][station][station] == 0 : \n",
    "                    Y[i][station] += 1\n",
    "                    \n",
    "    Y_R = np.mean(Y, axis = 0)\n",
    "    T_R = np.mean(T)\n",
    "                \n",
    "    gamma12 = (T.dot(Y) - T_R*Y_R) / (R-1)     \n",
    "    gamma11 = (sum(np.power(T,2)) - T_R**2) / (R-1)\n",
    "    gamma22  = (np.sum(np.power(Y, 2), axis = 0) - Y_R**2) / (R-1)\n",
    "    \n",
    "    eta = np.sqrt(gamma11*Y_R**2/T_R**4 - 2*gamma12*Y_R/T_R**3 + gamma22/T_R**2)\n",
    "    \n",
    "    moy = Y_R/T_R\n",
    "    marge = 1.95*eta/np.sqrt(R)\n",
    "    \n",
    "    if print_results :  \n",
    "        for i in range(len(moy)): \n",
    "            print(\"La probabilité stationnaire que la station %i soit vide avec %i vélos est de %f +- %f\"%(i+3, \n",
    "                                                                        np.sum(etat_0), moy[i], marge[i]))\n",
    "    return moy, marge"
   ]
  },
  {
   "cell_type": "code",
   "execution_count": 17,
   "id": "f0ed1771",
   "metadata": {},
   "outputs": [
    {
     "data": {
      "text/plain": [
       "100"
      ]
     },
     "execution_count": 17,
     "metadata": {},
     "output_type": "execute_result"
    }
   ],
   "source": [
    "etat_4 = np.array([[20,  1,  0,  0,  2],\n",
    "                   [ 1, 15,  1,  1,  0],\n",
    "                   [ 0,  1, 17,  1,  0],\n",
    "                   [ 2,  0,  1, 14,  1],\n",
    "                   [ 0,  2,  1,  1, 18]])\n",
    "np.sum(etat_4)"
   ]
  },
  {
   "cell_type": "code",
   "execution_count": 18,
   "id": "ee10d949",
   "metadata": {},
   "outputs": [
    {
     "name": "stderr",
     "output_type": "stream",
     "text": [
      "<ipython-input-15-8f195831fb3e>:1: NumbaWarning: \u001b[1m\n",
      "Compilation is falling back to object mode WITH looplifting enabled because Function \"cycles\" failed type inference due to: \u001b[1mCannot infer the type of variable 'cycle', have imprecise type: list(undefined)<iv=None>. \n",
      "\n",
      "For Numba to be able to compile a list, the list must have a known and\n",
      "precise type that can be inferred from the other variables. Whilst sometimes\n",
      "the type of empty lists can be inferred, this is not always the case, see this\n",
      "documentation for help:\n",
      "\n",
      "https://numba.pydata.org/numba-doc/latest/user/troubleshoot.html#my-code-has-an-untyped-list-problem\n",
      "\n",
      "\u001b[1m\n",
      "File \"<ipython-input-15-8f195831fb3e>\", line 15:\u001b[0m\n",
      "\u001b[1mdef cycles(ev, n) : \n",
      "    <source elided>\n",
      "    taille_max = 2\n",
      "\u001b[1m    cycle = []\n",
      "\u001b[0m    \u001b[1m^\u001b[0m\u001b[0m\n",
      "\u001b[0m\u001b[0m\n",
      "  @jit\n",
      "<ipython-input-15-8f195831fb3e>:1: NumbaWarning: \u001b[1m\n",
      "Compilation is falling back to object mode WITHOUT looplifting enabled because Function \"cycles\" failed type inference due to: \u001b[1m\u001b[1mCannot determine Numba type of <class 'numba.core.dispatcher.LiftedLoop'>\u001b[0m\n",
      "\u001b[1m\n",
      "File \"<ipython-input-15-8f195831fb3e>\", line 16:\u001b[0m\n",
      "\u001b[1mdef cycles(ev, n) : \n",
      "    <source elided>\n",
      "    cycle = []\n",
      "\u001b[1m    for i in range(n) : \n",
      "\u001b[0m    \u001b[1m^\u001b[0m\u001b[0m\n",
      "\u001b[0m\u001b[0m\n",
      "  @jit\n",
      "C:\\Users\\celia\\anaconda3_new\\lib\\site-packages\\numba\\core\\object_mode_passes.py:151: NumbaWarning: \u001b[1mFunction \"cycles\" was compiled in object mode without forceobj=True, but has lifted loops.\n",
      "\u001b[1m\n",
      "File \"<ipython-input-15-8f195831fb3e>\", line 14:\u001b[0m\n",
      "\u001b[1mdef cycles(ev, n) : \n",
      "    <source elided>\n",
      "\n",
      "\u001b[1m    taille_max = 2\n",
      "\u001b[0m    \u001b[1m^\u001b[0m\u001b[0m\n",
      "\u001b[0m\n",
      "  warnings.warn(errors.NumbaWarning(warn_msg,\n",
      "C:\\Users\\celia\\anaconda3_new\\lib\\site-packages\\numba\\core\\object_mode_passes.py:161: NumbaDeprecationWarning: \u001b[1m\n",
      "Fall-back from the nopython compilation path to the object mode compilation path has been detected, this is deprecated behaviour.\n",
      "\n",
      "For more information visit https://numba.pydata.org/numba-doc/latest/reference/deprecation.html#deprecation-of-object-mode-fall-back-behaviour-when-using-jit\n",
      "\u001b[1m\n",
      "File \"<ipython-input-15-8f195831fb3e>\", line 14:\u001b[0m\n",
      "\u001b[1mdef cycles(ev, n) : \n",
      "    <source elided>\n",
      "\n",
      "\u001b[1m    taille_max = 2\n",
      "\u001b[0m    \u001b[1m^\u001b[0m\u001b[0m\n",
      "\u001b[0m\n",
      "  warnings.warn(errors.NumbaDeprecationWarning(msg,\n",
      "<ipython-input-15-8f195831fb3e>:1: NumbaWarning: \u001b[1m\n",
      "Compilation is falling back to object mode WITHOUT looplifting enabled because Function \"cycles\" failed type inference due to: \u001b[1m\u001b[1mnon-precise type pyobject\u001b[0m\n",
      "\u001b[0m\u001b[1mDuring: typing of argument at <ipython-input-15-8f195831fb3e> (16)\u001b[0m\n",
      "\u001b[1m\n",
      "File \"<ipython-input-15-8f195831fb3e>\", line 16:\u001b[0m\n",
      "\u001b[1mdef cycles(ev, n) : \n",
      "    <source elided>\n",
      "    cycle = []\n",
      "\u001b[1m    for i in range(n) : \n",
      "\u001b[0m    \u001b[1m^\u001b[0m\u001b[0m\n",
      "\u001b[0m\n",
      "  @jit\n",
      "C:\\Users\\celia\\anaconda3_new\\lib\\site-packages\\numba\\core\\object_mode_passes.py:151: NumbaWarning: \u001b[1mFunction \"cycles\" was compiled in object mode without forceobj=True.\n",
      "\u001b[1m\n",
      "File \"<ipython-input-15-8f195831fb3e>\", line 16:\u001b[0m\n",
      "\u001b[1mdef cycles(ev, n) : \n",
      "    <source elided>\n",
      "    cycle = []\n",
      "\u001b[1m    for i in range(n) : \n",
      "\u001b[0m    \u001b[1m^\u001b[0m\u001b[0m\n",
      "\u001b[0m\n",
      "  warnings.warn(errors.NumbaWarning(warn_msg,\n",
      "C:\\Users\\celia\\anaconda3_new\\lib\\site-packages\\numba\\core\\object_mode_passes.py:161: NumbaDeprecationWarning: \u001b[1m\n",
      "Fall-back from the nopython compilation path to the object mode compilation path has been detected, this is deprecated behaviour.\n",
      "\n",
      "For more information visit https://numba.pydata.org/numba-doc/latest/reference/deprecation.html#deprecation-of-object-mode-fall-back-behaviour-when-using-jit\n",
      "\u001b[1m\n",
      "File \"<ipython-input-15-8f195831fb3e>\", line 16:\u001b[0m\n",
      "\u001b[1mdef cycles(ev, n) : \n",
      "    <source elided>\n",
      "    cycle = []\n",
      "\u001b[1m    for i in range(n) : \n",
      "\u001b[0m    \u001b[1m^\u001b[0m\u001b[0m\n",
      "\u001b[0m\n",
      "  warnings.warn(errors.NumbaDeprecationWarning(msg,\n"
     ]
    },
    {
     "name": "stdout",
     "output_type": "stream",
     "text": [
      "On a 1 cycles\n",
      "La probabilité stationnaire que la station 3 soit vide avec 100 vélos est de 0.000000 +- nan\n",
      "La probabilité stationnaire que la station 4 soit vide avec 100 vélos est de 0.000000 +- nan\n",
      "La probabilité stationnaire que la station 5 soit vide avec 100 vélos est de 0.000000 +- nan\n",
      "La probabilité stationnaire que la station 6 soit vide avec 100 vélos est de 0.000000 +- nan\n",
      "La probabilité stationnaire que la station 7 soit vide avec 100 vélos est de 0.000000 +- nan\n"
     ]
    },
    {
     "name": "stderr",
     "output_type": "stream",
     "text": [
      "<ipython-input-16-4e8181b3282a>:35: RuntimeWarning: invalid value encountered in true_divide\n",
      "  gamma12 = (T.dot(Y) - T_R*Y_R) / (R-1)\n",
      "<ipython-input-16-4e8181b3282a>:36: RuntimeWarning: invalid value encountered in double_scalars\n",
      "  gamma11 = (sum(np.power(T,2)) - T_R**2) / (R-1)\n",
      "<ipython-input-16-4e8181b3282a>:37: RuntimeWarning: invalid value encountered in true_divide\n",
      "  gamma22  = (np.sum(np.power(Y, 2), axis = 0) - Y_R**2) / (R-1)\n"
     ]
    }
   ],
   "source": [
    "moy, marge = simu_regenerative(etat_4, 5000*3600, 500)"
   ]
  },
  {
   "cell_type": "markdown",
   "id": "ca73ccd9",
   "metadata": {},
   "source": [
    "Le problème qu'on rencontre ici c'est qu'il y a très peu de cycles quand il y a 100 vélos, le nombre d'état est très élévé donc on ne retourne que rarement sur un état par lequel on est déjà passé. Soit c'est le cas après des milliers d'itérations et donc ce n'est plus très rentable d'utiliser la simulation régénérative par rapport à l'analyse du temps passé vide sur le temps total, soit les cycles sont très courts, d'une dizaine d'itérations qui ne nous apprortent par beaucoup d'information sur l'évolution du processus de Markov. \n",
    "\n",
    "En plus, on est obligés de mettre n_cycle et t_f grand pour maximiser nos chances d'avoir R > 1. L'algorithme est donc très long et n'obtient pas des résultats précis dans ce cas. \n",
    "\n",
    "Nous allons donc putôt le tester sur une simulation avec 10 vélos : "
   ]
  },
  {
   "cell_type": "code",
   "execution_count": 19,
   "id": "00cf5ba2",
   "metadata": {},
   "outputs": [
    {
     "name": "stdout",
     "output_type": "stream",
     "text": [
      "[[2. 0. 0. 0. 0.]\n",
      " [0. 2. 0. 0. 0.]\n",
      " [0. 0. 2. 0. 0.]\n",
      " [0. 0. 0. 2. 0.]\n",
      " [0. 0. 0. 0. 2.]]\n",
      "10.0\n"
     ]
    }
   ],
   "source": [
    "etat_5 = np.zeros((5,5)) + 2*np.diag(np.ones(5))\n",
    "print(etat_5)\n",
    "print(np.sum(etat_5))"
   ]
  },
  {
   "cell_type": "code",
   "execution_count": 20,
   "id": "528d9260",
   "metadata": {},
   "outputs": [
    {
     "name": "stderr",
     "output_type": "stream",
     "text": [
      "<ipython-input-15-8f195831fb3e>:1: NumbaWarning: \u001b[1m\n",
      "Compilation is falling back to object mode WITH looplifting enabled because Function \"cycles\" failed type inference due to: \u001b[1mCannot infer the type of variable 'cycle', have imprecise type: list(undefined)<iv=None>. \n",
      "\n",
      "For Numba to be able to compile a list, the list must have a known and\n",
      "precise type that can be inferred from the other variables. Whilst sometimes\n",
      "the type of empty lists can be inferred, this is not always the case, see this\n",
      "documentation for help:\n",
      "\n",
      "https://numba.pydata.org/numba-doc/latest/user/troubleshoot.html#my-code-has-an-untyped-list-problem\n",
      "\n",
      "\u001b[1m\n",
      "File \"<ipython-input-15-8f195831fb3e>\", line 15:\u001b[0m\n",
      "\u001b[1mdef cycles(ev, n) : \n",
      "    <source elided>\n",
      "    taille_max = 2\n",
      "\u001b[1m    cycle = []\n",
      "\u001b[0m    \u001b[1m^\u001b[0m\u001b[0m\n",
      "\u001b[0m\u001b[0m\n",
      "  @jit\n",
      "<ipython-input-15-8f195831fb3e>:1: NumbaWarning: \u001b[1m\n",
      "Compilation is falling back to object mode WITHOUT looplifting enabled because Function \"cycles\" failed type inference due to: \u001b[1m\u001b[1mCannot determine Numba type of <class 'numba.core.dispatcher.LiftedLoop'>\u001b[0m\n",
      "\u001b[1m\n",
      "File \"<ipython-input-15-8f195831fb3e>\", line 16:\u001b[0m\n",
      "\u001b[1mdef cycles(ev, n) : \n",
      "    <source elided>\n",
      "    cycle = []\n",
      "\u001b[1m    for i in range(n) : \n",
      "\u001b[0m    \u001b[1m^\u001b[0m\u001b[0m\n",
      "\u001b[0m\u001b[0m\n",
      "  @jit\n",
      "C:\\Users\\celia\\anaconda3_new\\lib\\site-packages\\numba\\core\\object_mode_passes.py:151: NumbaWarning: \u001b[1mFunction \"cycles\" was compiled in object mode without forceobj=True, but has lifted loops.\n",
      "\u001b[1m\n",
      "File \"<ipython-input-15-8f195831fb3e>\", line 14:\u001b[0m\n",
      "\u001b[1mdef cycles(ev, n) : \n",
      "    <source elided>\n",
      "\n",
      "\u001b[1m    taille_max = 2\n",
      "\u001b[0m    \u001b[1m^\u001b[0m\u001b[0m\n",
      "\u001b[0m\n",
      "  warnings.warn(errors.NumbaWarning(warn_msg,\n",
      "C:\\Users\\celia\\anaconda3_new\\lib\\site-packages\\numba\\core\\object_mode_passes.py:161: NumbaDeprecationWarning: \u001b[1m\n",
      "Fall-back from the nopython compilation path to the object mode compilation path has been detected, this is deprecated behaviour.\n",
      "\n",
      "For more information visit https://numba.pydata.org/numba-doc/latest/reference/deprecation.html#deprecation-of-object-mode-fall-back-behaviour-when-using-jit\n",
      "\u001b[1m\n",
      "File \"<ipython-input-15-8f195831fb3e>\", line 14:\u001b[0m\n",
      "\u001b[1mdef cycles(ev, n) : \n",
      "    <source elided>\n",
      "\n",
      "\u001b[1m    taille_max = 2\n",
      "\u001b[0m    \u001b[1m^\u001b[0m\u001b[0m\n",
      "\u001b[0m\n",
      "  warnings.warn(errors.NumbaDeprecationWarning(msg,\n",
      "<ipython-input-15-8f195831fb3e>:1: NumbaWarning: \u001b[1m\n",
      "Compilation is falling back to object mode WITHOUT looplifting enabled because Function \"cycles\" failed type inference due to: \u001b[1m\u001b[1mnon-precise type pyobject\u001b[0m\n",
      "\u001b[0m\u001b[1mDuring: typing of argument at <ipython-input-15-8f195831fb3e> (16)\u001b[0m\n",
      "\u001b[1m\n",
      "File \"<ipython-input-15-8f195831fb3e>\", line 16:\u001b[0m\n",
      "\u001b[1mdef cycles(ev, n) : \n",
      "    <source elided>\n",
      "    cycle = []\n",
      "\u001b[1m    for i in range(n) : \n",
      "\u001b[0m    \u001b[1m^\u001b[0m\u001b[0m\n",
      "\u001b[0m\n",
      "  @jit\n",
      "C:\\Users\\celia\\anaconda3_new\\lib\\site-packages\\numba\\core\\object_mode_passes.py:151: NumbaWarning: \u001b[1mFunction \"cycles\" was compiled in object mode without forceobj=True.\n",
      "\u001b[1m\n",
      "File \"<ipython-input-15-8f195831fb3e>\", line 16:\u001b[0m\n",
      "\u001b[1mdef cycles(ev, n) : \n",
      "    <source elided>\n",
      "    cycle = []\n",
      "\u001b[1m    for i in range(n) : \n",
      "\u001b[0m    \u001b[1m^\u001b[0m\u001b[0m\n",
      "\u001b[0m\n",
      "  warnings.warn(errors.NumbaWarning(warn_msg,\n",
      "C:\\Users\\celia\\anaconda3_new\\lib\\site-packages\\numba\\core\\object_mode_passes.py:161: NumbaDeprecationWarning: \u001b[1m\n",
      "Fall-back from the nopython compilation path to the object mode compilation path has been detected, this is deprecated behaviour.\n",
      "\n",
      "For more information visit https://numba.pydata.org/numba-doc/latest/reference/deprecation.html#deprecation-of-object-mode-fall-back-behaviour-when-using-jit\n",
      "\u001b[1m\n",
      "File \"<ipython-input-15-8f195831fb3e>\", line 16:\u001b[0m\n",
      "\u001b[1mdef cycles(ev, n) : \n",
      "    <source elided>\n",
      "    cycle = []\n",
      "\u001b[1m    for i in range(n) : \n",
      "\u001b[0m    \u001b[1m^\u001b[0m\u001b[0m\n",
      "\u001b[0m\n",
      "  warnings.warn(errors.NumbaDeprecationWarning(msg,\n"
     ]
    },
    {
     "name": "stdout",
     "output_type": "stream",
     "text": [
      "On a 16 cycles\n",
      "La probabilité stationnaire que la station 3 soit vide avec 10 vélos est de 0.281855 +- 0.024742\n",
      "La probabilité stationnaire que la station 4 soit vide avec 10 vélos est de 0.298632 +- 0.034269\n",
      "La probabilité stationnaire que la station 5 soit vide avec 10 vélos est de 0.359327 +- 0.025795\n",
      "La probabilité stationnaire que la station 6 soit vide avec 10 vélos est de 0.258495 +- 0.027265\n",
      "La probabilité stationnaire que la station 7 soit vide avec 10 vélos est de 0.311587 +- 0.026247\n"
     ]
    }
   ],
   "source": [
    "moy, marge = simu_regenerative(etat_5, 1000*3600, 1000)"
   ]
  },
  {
   "cell_type": "code",
   "execution_count": 21,
   "id": "7efcd092",
   "metadata": {},
   "outputs": [
    {
     "name": "stdout",
     "output_type": "stream",
     "text": [
      "Probabilité que la station 3 soit vide au bout de 150 h : [ 0.250000 +- 0.085298 ]\n",
      "Probabilité que la station 4 soit vide au bout de 150 h : [ 0.330000 +- 0.092626 ]\n",
      "Probabilité que la station 5 soit vide au bout de 150 h : [ 0.370000 +- 0.095106 ]\n",
      "Probabilité que la station 6 soit vide au bout de 150 h : [ 0.270000 +- 0.087454 ]\n",
      "Probabilité que la station 7 soit vide au bout de 150 h : [ 0.280000 +- 0.088447 ]\n"
     ]
    }
   ],
   "source": [
    "prob = stations_vides(100, etat_5, 150*3600)"
   ]
  },
  {
   "cell_type": "code",
   "execution_count": null,
   "id": "caedc909",
   "metadata": {},
   "outputs": [],
   "source": []
  }
 ],
 "metadata": {
  "kernelspec": {
   "display_name": "Python 3",
   "language": "python",
   "name": "python3"
  },
  "language_info": {
   "codemirror_mode": {
    "name": "ipython",
    "version": 3
   },
   "file_extension": ".py",
   "mimetype": "text/x-python",
   "name": "python",
   "nbconvert_exporter": "python",
   "pygments_lexer": "ipython3",
   "version": "3.8.8"
  }
 },
 "nbformat": 4,
 "nbformat_minor": 5
}
