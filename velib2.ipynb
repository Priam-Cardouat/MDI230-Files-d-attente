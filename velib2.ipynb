{
 "cells": [
  {
   "cell_type": "code",
   "execution_count": 1,
   "metadata": {},
   "outputs": [],
   "source": [
    "### This is about simulating a great number of times the Velib trafic in Rouen\n",
    "import Distributions\n",
    "using Distributions\n",
    "import PyPlot\n",
    "using PyPlot"
   ]
  },
  {
   "cell_type": "code",
   "execution_count": 2,
   "metadata": {},
   "outputs": [],
   "source": [
    "#General Data\n",
    "T = 120 #horizon\n",
    "n = 5 #number of stations : 3-7\n",
    "dist_matrix = 1./[0 3 5 7 7;\n",
    "               2 0 2 5 5;\n",
    "               4 2 0 3 3;\n",
    "               8 6 4 0 2;\n",
    "               7 7 5 2 0]; #distance between stations\n",
    "terminal_number = [24 20 20 15 20]; #number of terminals at each station\n",
    "routing_matrix = [0 0.2 0.3 0.2 0.3;\n",
    "                  0.2 0 0.3 0.2 0.3;\n",
    "                  0.2 0.25 0 0.25 0.3;\n",
    "                  0.15 0.2 0.3 0 0.35;\n",
    "                  0.2 0.25 0.35 0.2 0]; #routing matrix ?\n",
    "leaving_per_min = [2.8 3.7 5.5 3.5 4.6]/60; #mean number of bikes leaving each station per minute\n",
    "leaving_per_hour = leaving_per_min;\n",
    "alpha = 1;\n",
    "N_bikes = convert(Integer, 91); #total number of bikes\n",
    "N_stations = convert(Integer, 5); #number of stations"
   ]
  },
  {
   "cell_type": "code",
   "execution_count": 3,
   "metadata": {},
   "outputs": [],
   "source": [
    "#Initial data\n",
    "X0 = [20 1 0 0 0;\n",
    "     1 15 1 0 0;\n",
    "     0 1 17 1 0;\n",
    "     0 0 1 13 1;\n",
    "     0 0 0 1 18];"
   ]
  },
  {
   "cell_type": "code",
   "execution_count": 4,
   "metadata": {},
   "outputs": [
    {
     "data": {
      "text/plain": [
       "get_event (generic function with 1 method)"
      ]
     },
     "execution_count": 4,
     "metadata": {},
     "output_type": "execute_result"
    }
   ],
   "source": [
    "function get_event(v, P)\n",
    "    i0 = 1; j0 = 1; s = 0;\n",
    "    for i in range(1, N_stations)\n",
    "        for j in range(1, N_stations)\n",
    "            s = s + P[i,j];\n",
    "            if P[i,j] != 0\n",
    "                if v< s\n",
    "                    i0 = i; j0 = j;\n",
    "                    return [i0, j0];\n",
    "                end\n",
    "            end\n",
    "        end\n",
    "    end\n",
    "    return [i0, j0]\n",
    "end"
   ]
  },
  {
   "cell_type": "code",
   "execution_count": 153,
   "metadata": {},
   "outputs": [
    {
     "name": "stderr",
     "output_type": "stream",
     "text": [
      "WARNING: Method definition simulate(Any) in module Main at In[128]:3 overwritten at In[153]:3.\n",
      "WARNING: Method definition simulate(Any, Any) in module Main at In[128]:3 overwritten at In[153]:3.\n",
      "WARNING: Method definition simulate(Any, Any, Any) in module Main at In[128]:3 overwritten at In[153]:3.\n"
     ]
    },
    {
     "data": {
      "text/plain": [
       "simulate (generic function with 3 methods)"
      ]
     },
     "execution_count": 153,
     "metadata": {},
     "output_type": "execute_result"
    }
   ],
   "source": [
    "function simulate(T, suivi=false, logs=false)\n",
    "    #define distributions\n",
    "    c = Uniform();\n",
    "    route = [Categorical(routing_matrix[i, :]) for i in range(1, N_stations)];\n",
    "    #time\n",
    "    t = 0;\n",
    "    #state\n",
    "    X = copy(X0);\n",
    "    #number of problems\n",
    "    result = 0;\n",
    "    last_state = 0;\n",
    "    while (t < T)\n",
    "        #********************************************************************\n",
    "        #Get the parameter of the stay time Exponential \n",
    "        #get also the vector with probabilities of each event p\n",
    "        lambda = 0;\n",
    "        p = zeros(N_stations,N_stations);\n",
    "        for i in range(1, N_stations)\n",
    "            for j in range(1, N_stations)\n",
    "                if i != j\n",
    "                    lambda = lambda + X[i,j]*dist_matrix[i,j];\n",
    "                    p[i,j] = X[i,j]*dist_matrix[i,j];\n",
    "                    #println(X[i,j])\n",
    "                else\n",
    "                    lambda = lambda + alpha * leaving_per_hour[i];\n",
    "                    p[i,j] = alpha * leaving_per_hour[i];\n",
    "                end\n",
    "                \n",
    "                #println(i, \" , \", j ,\" , \" ,lambda)\n",
    "            end\n",
    "        end\n",
    "        p = p./lambda;\n",
    "        \n",
    "        if logs\n",
    "            for i in range(1,N_stations)\n",
    "                println(p[i,:])\n",
    "            end\n",
    "            println(\"lambda \", lambda)\n",
    "        end\n",
    "        \n",
    "        #*****************************************************************\n",
    "        #Draw the time to stay\n",
    "        exp = Exponential(1/lambda);\n",
    "        dt = rand(exp);\n",
    "        #println(dt)\n",
    "        t = t + dt;\n",
    "        \n",
    "        #*****************************************************************\n",
    "        #draw event and realise it\n",
    "        cat = rand(c);\n",
    "        if logs\n",
    "            println(\" cat \", cat)\n",
    "            for i in range(1,N_stations)\n",
    "                println(X[i,:])\n",
    "            end\n",
    "        end\n",
    "        A = get_event(cat, p); i = A[1]; j = A[2];\n",
    "        #println(\"i \", i, \" j \", j)\n",
    "        #println(p[i,j])\n",
    "        #if i == j it is a departure. Else it is an arrival.\n",
    "        if i == j\n",
    "            #if there is no bike available\n",
    "            if X[i,j] == 0\n",
    "                result = result + 1;\n",
    "                #last_state = 1;\n",
    "                if suivi \n",
    "                    println(\"error departure \" , i)\n",
    "                end\n",
    "            else\n",
    "                X[i,j] = X[i,j] - 1;\n",
    "                destination = rand(route[i]);\n",
    "                X[i, destination] = X[i, destination] + 1;\n",
    "                #last_state = 0;\n",
    "            end\n",
    "            if suivi\n",
    "                println(\"departure \", i , \" to \", destination, \", temps \" , t);\n",
    "            end\n",
    "        else #it is an arrival\n",
    "            #if no terminal is available\n",
    "            if X[j,j] == terminal_number[j]\n",
    "                result = result + 1;\n",
    "                if suivi\n",
    "                    println(\"error arrival \" , j)\n",
    "                end\n",
    "                X[i,j] = X[i,j] - 1;\n",
    "                destination = rand(route[j]);\n",
    "                X[j, destination] = X[j, destination] + 1;\n",
    "                #last_state = 1;\n",
    "            else\n",
    "                X[i,j] = X[i,j] - 1;\n",
    "                X[j,j] = X[j,j] + 1;\n",
    "                if suivi\n",
    "                    println(\"arrival \", j, \" from \", i,  \" temps\" , t);\n",
    "                end\n",
    "                #last_state = 0;\n",
    "            end\n",
    "        end\n",
    "    end\n",
    "    if logs \n",
    "        for i in range(1,N_stations)\n",
    "            println(X[i,:])\n",
    "        end\n",
    "    end\n",
    "    \n",
    "    for i in range(1,N_stations)\n",
    "        if X[i,i] == 0 \n",
    "            last_state = 1\n",
    "        end\n",
    "        if X[i,i]== terminal_number[i]\n",
    "            for j in range(1,N_stations)\n",
    "                if j!=i\n",
    "                    if X[j,i]>0\n",
    "                        last_state = 1\n",
    "                    end\n",
    "                end\n",
    "            end\n",
    "        end\n",
    "    end\n",
    "    if suivi\n",
    "        if last_state == 1\n",
    "            for i in range(1,N_stations)\n",
    "                println(X[i,:])\n",
    "            end\n",
    "            println(terminal_number)\n",
    "        end\n",
    "    end\n",
    "    \n",
    "    return (result, last_state)\n",
    "end"
   ]
  },
  {
   "cell_type": "code",
   "execution_count": 154,
   "metadata": {
    "scrolled": true
   },
   "outputs": [
    {
     "data": {
      "text/plain": [
       "(14,0)"
      ]
     },
     "execution_count": 154,
     "metadata": {},
     "output_type": "execute_result"
    }
   ],
   "source": [
    "simulate(120)"
   ]
  },
  {
   "cell_type": "code",
   "execution_count": 155,
   "metadata": {},
   "outputs": [
    {
     "name": "stdout",
     "output_type": "stream",
     "text": [
      "mean value 12.62\n",
      "max value 53.0\n",
      "average problem percentage 41.64 %\n"
     ]
    }
   ],
   "source": [
    "Nb_simu_total = 10000\n",
    "results = zeros(Nb_simu_total)\n",
    "last_state = zeros(Nb_simu_total)\n",
    "for t in range(1,Nb_simu_total)\n",
    "    (results[t], last_state[t]) = simulate(T)\n",
    "end\n",
    "#println(results)\n",
    "#println(last_state)\n",
    "println(\"mean value \", mean(results))\n",
    "println(\"max value \", maximum(results))\n",
    "print(\"average problem percentage \", 100*mean(last_state))\n",
    "println(\" %\")"
   ]
  },
  {
   "cell_type": "code",
   "execution_count": 158,
   "metadata": {},
   "outputs": [
    {
     "name": "stderr",
     "output_type": "stream",
     "text": [
      "WARNING: Method definition simulate2(Any) in module Main at In[107]:3 overwritten at In[158]:3.\n",
      "WARNING: Method definition simulate2(Any, Any) in module Main at In[107]:3 overwritten at In[158]:3.\n",
      "WARNING: Method definition simulate2(Any, Any, Any) in module Main at In[107]:3 overwritten at In[158]:3.\n"
     ]
    },
    {
     "data": {
      "text/plain": [
       "simulate2 (generic function with 4 methods)"
      ]
     },
     "execution_count": 158,
     "metadata": {},
     "output_type": "execute_result"
    }
   ],
   "source": [
    "function simulate2(T, suivi=false, logs=false)\n",
    "    #define distributions\n",
    "    c = Uniform();\n",
    "    route = [Categorical(routing_matrix[i, :]) for i in range(1, N_stations)];\n",
    "    #time\n",
    "    t = 0;\n",
    "    #state\n",
    "    X = copy(X0);\n",
    "    #number of problems possible\n",
    "    result = 0;\n",
    "    #number of iterations\n",
    "    iteration =0;\n",
    "    \n",
    "    last_state = 0;\n",
    "    while (t < T)\n",
    "        #********************************************************************\n",
    "        #Get the parameter of the stay time Exponential \n",
    "        #get also the vector with probabilities of each event p\n",
    "        lambda = 0;\n",
    "        p = zeros(N_stations,N_stations);\n",
    "        for i in range(1, N_stations)\n",
    "            for j in range(1, N_stations)\n",
    "                if i != j\n",
    "                    lambda = lambda + X[i,j]*dist_matrix[i,j];\n",
    "                    p[i,j] = X[i,j]*dist_matrix[i,j];\n",
    "                    #println(X[i,j])\n",
    "                else\n",
    "                    lambda = lambda + alpha * leaving_per_hour[i];\n",
    "                    p[i,j] = alpha * leaving_per_hour[i];\n",
    "                end\n",
    "                \n",
    "                #println(i, \" , \", j ,\" , \" ,lambda)\n",
    "            end\n",
    "        end\n",
    "        p = p./lambda;\n",
    "        \n",
    "        iteration += 1\n",
    "        \n",
    "        if logs\n",
    "            for i in range(1,N_stations)\n",
    "                println(p[i,:])\n",
    "            end\n",
    "            println(\"lambda \", lambda)\n",
    "        end\n",
    "        \n",
    "        #*****************************************************************\n",
    "        #Draw the time to stay\n",
    "        exp = Exponential(1/lambda);\n",
    "        dt = rand(exp);\n",
    "        #println(dt)\n",
    "        t = t + dt;\n",
    "        \n",
    "        #*****************************************************************\n",
    "        #draw event and realise it\n",
    "        cat = rand(c);\n",
    "        if logs\n",
    "            println(\" cat \", cat)\n",
    "            for i in range(1,N_stations)\n",
    "                println(X[i,:])\n",
    "            end\n",
    "        end\n",
    "        A = get_event(cat, p); i = A[1]; j = A[2];\n",
    "        #println(\"i \", i, \" j \", j)\n",
    "        #println(p[i,j])\n",
    "        #if i == j it is a departure. Else it is an arrival.\n",
    "        if i == j\n",
    "            #if there is no bike available\n",
    "            if X[i,j] == 0\n",
    "                #last_state = 1;\n",
    "                if suivi \n",
    "                    println(\"error departure \" , i)\n",
    "                end\n",
    "            else\n",
    "                X[i,j] = X[i,j] - 1;\n",
    "                destination = rand(route[i]);\n",
    "                X[i, destination] = X[i, destination] + 1;\n",
    "                if X[i,j] == 0\n",
    "               #     result += 1\n",
    "                end\n",
    "                #last_state = 0;\n",
    "            end\n",
    "            if suivi\n",
    "                println(\"departure \", i , \" to \", destination, \", temps \" , t);\n",
    "            end\n",
    "        else #it is an arrival\n",
    "            #if no terminal is available\n",
    "            if X[j,j] == terminal_number[j]\n",
    "                if suivi\n",
    "                    println(\"error arrival \" , j)\n",
    "                end\n",
    "                X[i,j] = X[i,j] - 1;\n",
    "                destination = rand(route[j]);\n",
    "                X[j, destination] = X[j, destination] + 1;\n",
    "                #last_state = 1;\n",
    "            else\n",
    "                X[i,j] = X[i,j] - 1;\n",
    "                X[j,j] = X[j,j] + 1;\n",
    "                if suivi\n",
    "                    println(\"arrival \", j, \" from \", i,  \" temps\" , t);\n",
    "                end\n",
    "                if X[j,j] == terminal_number[j]\n",
    "                    for l in range(1,N_stations)\n",
    "                        if l!=j\n",
    "                            if X[j,l]>0 \n",
    "                              #  result +=1\n",
    "                            end\n",
    "                        end\n",
    "                    end\n",
    "                end\n",
    "                #last_state = 0;\n",
    "            end\n",
    "        end\n",
    "        test = false\n",
    "        for i in range(1,N_stations)\n",
    "            if X[i,i] == 0 \n",
    "                test = true\n",
    "            end\n",
    "            if X[i,i]== terminal_number[i]\n",
    "                for j in range(1,N_stations)\n",
    "                    if j!=i\n",
    "                        if X[j,i]>0\n",
    "                            test = true\n",
    "                        end\n",
    "                    end\n",
    "                end\n",
    "            end\n",
    "        end\n",
    "        if test\n",
    "            result+=1\n",
    "        end\n",
    "    end\n",
    "    if logs \n",
    "        for i in range(1,N_stations)\n",
    "            println(X[i,:])\n",
    "        end\n",
    "    end\n",
    "    \n",
    "    for i in range(1,N_stations)\n",
    "        if X[i,i] == 0 \n",
    "            last_state = 1\n",
    "        end\n",
    "        if X[i,i]== terminal_number[i]\n",
    "            for j in range(1,N_stations)\n",
    "                if j!=i\n",
    "                    if X[j,i]>0\n",
    "                        last_state = 1\n",
    "                    end\n",
    "                end\n",
    "            end\n",
    "        end\n",
    "    end\n",
    "    \n",
    "    p_loss = result/iteration\n",
    "    \n",
    "    return (p_loss, last_state,result, iteration)\n",
    "end"
   ]
  },
  {
   "cell_type": "code",
   "execution_count": 157,
   "metadata": {},
   "outputs": [
    {
     "data": {
      "text/plain": [
       "(0.4632762138287672,0,3684262,7952625)"
      ]
     },
     "execution_count": 157,
     "metadata": {},
     "output_type": "execute_result"
    }
   ],
   "source": [
    "simulate2(10000000)"
   ]
  },
  {
   "cell_type": "code",
   "execution_count": 77,
   "metadata": {},
   "outputs": [
    {
     "data": {
      "image/png": "[encoded data removed]",
      "text/plain": [
       "PyPlot.Figure(PyObject <matplotlib.figure.Figure object at 0x7f0c044daf10>)"
      ]
     },
     "metadata": {},
     "output_type": "display_data"
    },
    {
     "data": {
      "text/plain": [
       "(PyObject <matplotlib.patches.Rectangle object at 0x7f0c044621d0>,PyObject <matplotlib.patches.Rectangle object at 0x7f0c04462810>,PyObject <matplotlib.patches.Rectangle object at 0x7f0c04462e90>,PyObject <matplotlib.patches.Rectangle object at 0x7f0c0446f550>,PyObject <matplotlib.patches.Rectangle object at 0x7f0c0446fbd0>,PyObject <matplotlib.patches.Rectangle object at 0x7f0c0447d290>,PyObject <matplotlib.patches.Rectangle object at 0x7f0c0447d910>,PyObject <matplotlib.patches.Rectangle object at 0x7f0c0447df90>,PyObject <matplotlib.patches.Rectangle object at 0x7f0c04409650>,PyObject <matplotlib.patches.Rectangle object at 0x7f0c04409cd0>,PyObject <matplotlib.patches.Rectangle object at 0x7f0c04417390>,PyObject <matplotlib.patches.Rectangle object at 0x7f0c04417a10>,PyObject <matplotlib.patches.Rectangle object at 0x7f0c04417f10>,PyObject <matplotlib.patches.Rectangle object at 0x7f0c04425750>,PyObject <matplotlib.patches.Rectangle object at 0x7f0c04425dd0>,PyObject <matplotlib.patches.Rectangle object at 0x7f0c04432490>,PyObject <matplotlib.patches.Rectangle object at 0x7f0c04432b10>,PyObject <matplotlib.patches.Rectangle object at 0x7f0c0443f1d0>,PyObject <matplotlib.patches.Rectangle object at 0x7f0c0443f850>,PyObject <matplotlib.patches.Rectangle object at 0x7f0c0443fed0>,PyObject <matplotlib.patches.Rectangle object at 0x7f0c043cd590>,PyObject <matplotlib.patches.Rectangle object at 0x7f0c043cdc10>,PyObject <matplotlib.patches.Rectangle object at 0x7f0c043d92d0>,PyObject <matplotlib.patches.Rectangle object at 0x7f0c043d9950>,PyObject <matplotlib.patches.Rectangle object at 0x7f0c043d9fd0>,PyObject <matplotlib.patches.Rectangle object at 0x7f0c043e7690>,PyObject <matplotlib.patches.Rectangle object at 0x7f0c043e7d10>,PyObject <matplotlib.patches.Rectangle object at 0x7f0c043f53d0>,PyObject <matplotlib.patches.Rectangle object at 0x7f0c043f5a50>,PyObject <matplotlib.patches.Rectangle object at 0x7f0c043f5f50>,PyObject <matplotlib.patches.Rectangle object at 0x7f0c04381790>,PyObject <matplotlib.patches.Rectangle object at 0x7f0c04381e10>,PyObject <matplotlib.patches.Rectangle object at 0x7f0c04495710>,PyObject <matplotlib.patches.Rectangle object at 0x7f0c044fe310>,PyObject <matplotlib.patches.Rectangle object at 0x7f0c044f20d0>,PyObject <matplotlib.patches.Rectangle object at 0x7f0c044e9f90>,PyObject <matplotlib.patches.Rectangle object at 0x7f0c04390b10>,PyObject <matplotlib.patches.Rectangle object at 0x7f0c043a21d0>,PyObject <matplotlib.patches.Rectangle object at 0x7f0c043a2850>,PyObject <matplotlib.patches.Rectangle object at 0x7f0c043a2ed0>,PyObject <matplotlib.patches.Rectangle object at 0x7f0c043b0590>,PyObject <matplotlib.patches.Rectangle object at 0x7f0c043b0c10>,PyObject <matplotlib.patches.Rectangle object at 0x7f0c043bf2d0>,PyObject <matplotlib.patches.Rectangle object at 0x7f0c043bf950>,PyObject <matplotlib.patches.Rectangle object at 0x7f0c043bffd0>,PyObject <matplotlib.patches.Rectangle object at 0x7f0c0434a690>,PyObject <matplotlib.patches.Rectangle object at 0x7f0c0434ad10>,PyObject <matplotlib.patches.Rectangle object at 0x7f0c043583d0>,PyObject <matplotlib.patches.Rectangle object at 0x7f0c04358a50>,PyObject <matplotlib.patches.Rectangle object at 0x7f0c04358f50>,PyObject <matplotlib.patches.Rectangle object at 0x7f0c04366790>,PyObject <matplotlib.patches.Rectangle object at 0x7f0c04366e10>,PyObject <matplotlib.patches.Rectangle object at 0x7f0c043724d0>,PyObject <matplotlib.patches.Rectangle object at 0x7f0c04372b50>,PyObject <matplotlib.patches.Rectangle object at 0x7f0c04301210>,PyObject <matplotlib.patches.Rectangle object at 0x7f0c04301890>,PyObject <matplotlib.patches.Rectangle object at 0x7f0c04301f10>,PyObject <matplotlib.patches.Rectangle object at 0x7f0c0430f5d0>,PyObject <matplotlib.patches.Rectangle object at 0x7f0c0430fc50>,PyObject <matplotlib.patches.Rectangle object at 0x7f0c0431b310>,PyObject <matplotlib.patches.Rectangle object at 0x7f0c0431b990>,PyObject <matplotlib.patches.Rectangle object at 0x7f0c0431be90>,PyObject <matplotlib.patches.Rectangle object at 0x7f0c043286d0>,PyObject <matplotlib.patches.Rectangle object at 0x7f0c04328d50>,PyObject <matplotlib.patches.Rectangle object at 0x7f0c04336410>,PyObject <matplotlib.patches.Rectangle object at 0x7f0c04336a90>,PyObject <matplotlib.patches.Rectangle object at 0x7f0c04336f90>,PyObject <matplotlib.patches.Rectangle object at 0x7f0c042c37d0>,PyObject <matplotlib.patches.Rectangle object at 0x7f0c042c3e50>,PyObject <matplotlib.patches.Rectangle object at 0x7f0c042d0510>,PyObject <matplotlib.patches.Rectangle object at 0x7f0c042d0b90>,PyObject <matplotlib.patches.Rectangle object at 0x7f0c042df250>,PyObject <matplotlib.patches.Rectangle object at 0x7f0c042df8d0>,PyObject <matplotlib.patches.Rectangle object at 0x7f0c042dff50>,PyObject <matplotlib.patches.Rectangle object at 0x7f0c042eb610>,PyObject <matplotlib.patches.Rectangle object at 0x7f0c042ebc90>,PyObject <matplotlib.patches.Rectangle object at 0x7f0c042fa350>,PyObject <matplotlib.patches.Rectangle object at 0x7f0c042fa9d0>,PyObject <matplotlib.patches.Rectangle object at 0x7f0c042faed0>,PyObject <matplotlib.patches.Rectangle object at 0x7f0c04287710>,PyObject <matplotlib.patches.Rectangle object at 0x7f0c04287d90>,PyObject <matplotlib.patches.Rectangle object at 0x7f0c04295450>,PyObject <matplotlib.patches.Rectangle object at 0x7f0c04295ad0>,PyObject <matplotlib.patches.Rectangle object at 0x7f0c04295fd0>,PyObject <matplotlib.patches.Rectangle object at 0x7f0c042a3810>,PyObject <matplotlib.patches.Rectangle object at 0x7f0c042a3e90>,PyObject <matplotlib.patches.Rectangle object at 0x7f0c042af550>,PyObject <matplotlib.patches.Rectangle object at 0x7f0c042afbd0>,PyObject <matplotlib.patches.Rectangle object at 0x7f0c042bd290>,PyObject <matplotlib.patches.Rectangle object at 0x7f0c042bd910>,PyObject <matplotlib.patches.Rectangle object at 0x7f0c042bdf90>,PyObject <matplotlib.patches.Rectangle object at 0x7f0c0424a650>,PyObject <matplotlib.patches.Rectangle object at 0x7f0c0424acd0>,PyObject <matplotlib.patches.Rectangle object at 0x7f0c04258390>,PyObject <matplotlib.patches.Rectangle object at 0x7f0c04258a10>,PyObject <matplotlib.patches.Rectangle object at 0x7f0c04258f10>,PyObject <matplotlib.patches.Rectangle object at 0x7f0c04266750>,PyObject <matplotlib.patches.Rectangle object at 0x7f0c04266dd0>,PyObject <matplotlib.patches.Rectangle object at 0x7f0c04273490>,PyObject <matplotlib.patches.Rectangle object at 0x7f0c04273b10>,PyObject <matplotlib.patches.Rectangle object at 0x7f0c042021d0>,PyObject <matplotlib.patches.Rectangle object at 0x7f0c04202850>,PyObject <matplotlib.patches.Rectangle object at 0x7f0c04202ed0>,PyObject <matplotlib.patches.Rectangle object at 0x7f0c0420d590>,PyObject <matplotlib.patches.Rectangle object at 0x7f0c0420dc10>,PyObject <matplotlib.patches.Rectangle object at 0x7f0c0421b2d0>,PyObject <matplotlib.patches.Rectangle object at 0x7f0c0421b950>,PyObject <matplotlib.patches.Rectangle object at 0x7f0c0421bfd0>,PyObject <matplotlib.patches.Rectangle object at 0x7f0c04229690>,PyObject <matplotlib.patches.Rectangle object at 0x7f0c04229d10>,PyObject <matplotlib.patches.Rectangle object at 0x7f0c042383d0>,PyObject <matplotlib.patches.Rectangle object at 0x7f0c04238a50>,PyObject <matplotlib.patches.Rectangle object at 0x7f0c04238f50>,PyObject <matplotlib.patches.Rectangle object at 0x7f0c041c3790>,PyObject <matplotlib.patches.Rectangle object at 0x7f0c041c3e10>,PyObject <matplotlib.patches.Rectangle object at 0x7f0c041d14d0>,PyObject <matplotlib.patches.Rectangle object at 0x7f0c041d1b50>,PyObject <matplotlib.patches.Rectangle object at 0x7f0c041e0210>,PyObject <matplotlib.patches.Rectangle object at 0x7f0c041e0890>,PyObject <matplotlib.patches.Rectangle object at 0x7f0c041e0f10>,PyObject <matplotlib.patches.Rectangle object at 0x7f0c041eb5d0>,PyObject <matplotlib.patches.Rectangle object at 0x7f0c041ebc50>,PyObject <matplotlib.patches.Rectangle object at 0x7f0c041f9310>,PyObject <matplotlib.patches.Rectangle object at 0x7f0c041f9990>,PyObject <matplotlib.patches.Rectangle object at 0x7f0c041f9e90>,PyObject <matplotlib.patches.Rectangle object at 0x7f0c041886d0>,PyObject <matplotlib.patches.Rectangle object at 0x7f0c04188d50>,PyObject <matplotlib.patches.Rectangle object at 0x7f0c04194410>,PyObject <matplotlib.patches.Rectangle object at 0x7f0c04194a90>,PyObject <matplotlib.patches.Rectangle object at 0x7f0c04194f90>,PyObject <matplotlib.patches.Rectangle object at 0x7f0c041a17d0>,PyObject <matplotlib.patches.Rectangle object at 0x7f0c041a1e50>,PyObject <matplotlib.patches.Rectangle object at 0x7f0c041af510>,PyObject <matplotlib.patches.Rectangle object at 0x7f0c041afb90>,PyObject <matplotlib.patches.Rectangle object at 0x7f0c041bd250>,PyObject <matplotlib.patches.Rectangle object at 0x7f0c041bd8d0>,PyObject <matplotlib.patches.Rectangle object at 0x7f0c041bdf50>,PyObject <matplotlib.patches.Rectangle object at 0x7f0c04149610>,PyObject <matplotlib.patches.Rectangle object at 0x7f0c04149c90>,PyObject <matplotlib.patches.Rectangle object at 0x7f0c04159350>,PyObject <matplotlib.patches.Rectangle object at 0x7f0c041599d0>,PyObject <matplotlib.patches.Rectangle object at 0x7f0c04159ed0>,PyObject <matplotlib.patches.Rectangle object at 0x7f0c04166710>,PyObject <matplotlib.patches.Rectangle object at 0x7f0c04166d90>,PyObject <matplotlib.patches.Rectangle object at 0x7f0c04172450>,PyObject <matplotlib.patches.Rectangle object at 0x7f0c04172ad0>,PyObject <matplotlib.patches.Rectangle object at 0x7f0c04172fd0>,PyObject <matplotlib.patches.Rectangle object at 0x7f0c04101810>,PyObject <matplotlib.patches.Rectangle object at 0x7f0c04101e90>,PyObject <matplotlib.patches.Rectangle object at 0x7f0c0410d550>,PyObject <matplotlib.patches.Rectangle object at 0x7f0c0410dbd0>,PyObject <matplotlib.patches.Rectangle object at 0x7f0c0411c290>,PyObject <matplotlib.patches.Rectangle object at 0x7f0c0411c910>,PyObject <matplotlib.patches.Rectangle object at 0x7f0c0411cf90>,PyObject <matplotlib.patches.Rectangle object at 0x7f0c0412a650>,PyObject <matplotlib.patches.Rectangle object at 0x7f0c0412acd0>,PyObject <matplotlib.patches.Rectangle object at 0x7f0c04137390>,PyObject <matplotlib.patches.Rectangle object at 0x7f0c04137a10>,PyObject <matplotlib.patches.Rectangle object at 0x7f0c04137f10>,PyObject <matplotlib.patches.Rectangle object at 0x7f0c040c4750>,PyObject <matplotlib.patches.Rectangle object at 0x7f0c040c4dd0>,PyObject <matplotlib.patches.Rectangle object at 0x7f0c040d2490>,PyObject <matplotlib.patches.Rectangle object at 0x7f0c040d2b10>,PyObject <matplotlib.patches.Rectangle object at 0x7f0c040e01d0>,PyObject <matplotlib.patches.Rectangle object at 0x7f0c040e0850>,PyObject <matplotlib.patches.Rectangle object at 0x7f0c040e0ed0>,PyObject <matplotlib.patches.Rectangle object at 0x7f0c040ec590>,PyObject <matplotlib.patches.Rectangle object at 0x7f0c040ecc10>,PyObject <matplotlib.patches.Rectangle object at 0x7f0c040fb2d0>,PyObject <matplotlib.patches.Rectangle object at 0x7f0c040fb950>,PyObject <matplotlib.patches.Rectangle object at 0x7f0c040fbfd0>,PyObject <matplotlib.patches.Rectangle object at 0x7f0c04088690>,PyObject <matplotlib.patches.Rectangle object at 0x7f0c04088d10>,PyObject <matplotlib.patches.Rectangle object at 0x7f0c040953d0>,PyObject <matplotlib.patches.Rectangle object at 0x7f0c04095a50>,PyObject <matplotlib.patches.Rectangle object at 0x7f0c04095f50>,PyObject <matplotlib.patches.Rectangle object at 0x7f0c040a2790>,PyObject <matplotlib.patches.Rectangle object at 0x7f0c040a2e10>,PyObject <matplotlib.patches.Rectangle object at 0x7f0c040af4d0>,PyObject <matplotlib.patches.Rectangle object at 0x7f0c040afb50>,PyObject <matplotlib.patches.Rectangle object at 0x7f0c040be210>,PyObject <matplotlib.patches.Rectangle object at 0x7f0c040be890>,PyObject <matplotlib.patches.Rectangle object at 0x7f0c040bef10>,PyObject <matplotlib.patches.Rectangle object at 0x7f0c0404b5d0>,PyObject <matplotlib.patches.Rectangle object at 0x7f0c0404bc50>,PyObject <matplotlib.patches.Rectangle object at 0x7f0c04058310>,PyObject <matplotlib.patches.Rectangle object at 0x7f0c04058990>,PyObject <matplotlib.patches.Rectangle object at 0x7f0c04058e90>,PyObject <matplotlib.patches.Rectangle object at 0x7f0c040656d0>,PyObject <matplotlib.patches.Rectangle object at 0x7f0c04065d50>,PyObject <matplotlib.patches.Rectangle object at 0x7f0c04072410>,PyObject <matplotlib.patches.Rectangle object at 0x7f0c04072a90>,PyObject <matplotlib.patches.Rectangle object at 0x7f0c04072f90>,PyObject <matplotlib.patches.Rectangle object at 0x7f0c040007d0>,PyObject <matplotlib.patches.Rectangle object at 0x7f0c04000e50>,PyObject <matplotlib.patches.Rectangle object at 0x7f0c0400d510>,PyObject <matplotlib.patches.Rectangle object at 0x7f0c0400db90>,PyObject <matplotlib.patches.Rectangle object at 0x7f0c0401b250>,PyObject <matplotlib.patches.Rectangle object at 0x7f0c0401b8d0>,PyObject <matplotlib.patches.Rectangle object at 0x7f0c0401bf50>,PyObject <matplotlib.patches.Rectangle object at 0x7f0c04029610>,PyObject <matplotlib.patches.Rectangle object at 0x7f0c04029c90>,PyObject <matplotlib.patches.Rectangle object at 0x7f0c04036350>,PyObject <matplotlib.patches.Rectangle object at 0x7f0c040369d0>,PyObject <matplotlib.patches.Rectangle object at 0x7f0c04036ed0>,PyObject <matplotlib.patches.Rectangle object at 0x7f0c03fc3710>,PyObject <matplotlib.patches.Rectangle object at 0x7f0c03fc3d90>,PyObject <matplotlib.patches.Rectangle object at 0x7f0c03fd1450>,PyObject <matplotlib.patches.Rectangle object at 0x7f0c03fd1ad0>,PyObject <matplotlib.patches.Rectangle object at 0x7f0c03fd1fd0>,PyObject <matplotlib.patches.Rectangle object at 0x7f0c03fe1810>,PyObject <matplotlib.patches.Rectangle object at 0x7f0c03fe1e90>,PyObject <matplotlib.patches.Rectangle object at 0x7f0c03fed550>,PyObject <matplotlib.patches.Rectangle object at 0x7f0c03fedbd0>,PyObject <matplotlib.patches.Rectangle object at 0x7f0c03ffc290>,PyObject <matplotlib.patches.Rectangle object at 0x7f0c03ffc910>,PyObject <matplotlib.patches.Rectangle object at 0x7f0c03ffcf90>,PyObject <matplotlib.patches.Rectangle object at 0x7f0c03f89650>,PyObject <matplotlib.patches.Rectangle object at 0x7f0c03f89cd0>,PyObject <matplotlib.patches.Rectangle object at 0x7f0c03f96390>,PyObject <matplotlib.patches.Rectangle object at 0x7f0c03f96a10>,PyObject <matplotlib.patches.Rectangle object at 0x7f0c03f96f10>,PyObject <matplotlib.patches.Rectangle object at 0x7f0c03fa3750>,PyObject <matplotlib.patches.Rectangle object at 0x7f0c03fa3dd0>,PyObject <matplotlib.patches.Rectangle object at 0x7f0c03fb1490>,PyObject <matplotlib.patches.Rectangle object at 0x7f0c03fb1b10>,PyObject <matplotlib.patches.Rectangle object at 0x7f0c03fbf1d0>,PyObject <matplotlib.patches.Rectangle object at 0x7f0c03fbf850>,PyObject <matplotlib.patches.Rectangle object at 0x7f0c03fbfed0>,PyObject <matplotlib.patches.Rectangle object at 0x7f0c03f4a590>,PyObject <matplotlib.patches.Rectangle object at 0x7f0c03f4ac10>,PyObject <matplotlib.patches.Rectangle object at 0x7f0c03f582d0>,PyObject <matplotlib.patches.Rectangle object at 0x7f0c03f58950>,PyObject <matplotlib.patches.Rectangle object at 0x7f0c03f58fd0>,PyObject <matplotlib.patches.Rectangle object at 0x7f0c03f66690>,PyObject <matplotlib.patches.Rectangle object at 0x7f0c03f66d10>,PyObject <matplotlib.patches.Rectangle object at 0x7f0c03f723d0>,PyObject <matplotlib.patches.Rectangle object at 0x7f0c03f72a50>,PyObject <matplotlib.patches.Rectangle object at 0x7f0c03f72f50>,PyObject <matplotlib.patches.Rectangle object at 0x7f0c03f00790>,PyObject <matplotlib.patches.Rectangle object at 0x7f0c03f00e10>,PyObject <matplotlib.patches.Rectangle object at 0x7f0c03f0e4d0>,PyObject <matplotlib.patches.Rectangle object at 0x7f0c03f0eb50>,PyObject <matplotlib.patches.Rectangle object at 0x7f0c03f1c210>,PyObject <matplotlib.patches.Rectangle object at 0x7f0c03f1c890>,PyObject <matplotlib.patches.Rectangle object at 0x7f0c03f1cf10>,PyObject <matplotlib.patches.Rectangle object at 0x7f0c03f2a5d0>,PyObject <matplotlib.patches.Rectangle object at 0x7f0c03f2ac50>,PyObject <matplotlib.patches.Rectangle object at 0x7f0c03f37310>,PyObject <matplotlib.patches.Rectangle object at 0x7f0c03f37990>,PyObject <matplotlib.patches.Rectangle object at 0x7f0c03f37e90>,PyObject <matplotlib.patches.Rectangle object at 0x7f0c03ec46d0>,PyObject <matplotlib.patches.Rectangle object at 0x7f0c03ec4d50>,PyObject <matplotlib.patches.Rectangle object at 0x7f0c03ed2410>,PyObject <matplotlib.patches.Rectangle object at 0x7f0c03ed2a90>,PyObject <matplotlib.patches.Rectangle object at 0x7f0c03ed2f90>,PyObject <matplotlib.patches.Rectangle object at 0x7f0c03edf7d0>,PyObject <matplotlib.patches.Rectangle object at 0x7f0c03edfe50>,PyObject <matplotlib.patches.Rectangle object at 0x7f0c03eed510>,PyObject <matplotlib.patches.Rectangle object at 0x7f0c03eedb90>,PyObject <matplotlib.patches.Rectangle object at 0x7f0c03efb250>,PyObject <matplotlib.patches.Rectangle object at 0x7f0c03efb8d0>,PyObject <matplotlib.patches.Rectangle object at 0x7f0c03efbf50>,PyObject <matplotlib.patches.Rectangle object at 0x7f0c03e87610>,PyObject <matplotlib.patches.Rectangle object at 0x7f0c03e87c90>,PyObject <matplotlib.patches.Rectangle object at 0x7f0c03e96350>,PyObject <matplotlib.patches.Rectangle object at 0x7f0c03e969d0>,PyObject <matplotlib.patches.Rectangle object at 0x7f0c03e96ed0>,PyObject <matplotlib.patches.Rectangle object at 0x7f0c03ea4710>,PyObject <matplotlib.patches.Rectangle object at 0x7f0c03ea4d90>,PyObject <matplotlib.patches.Rectangle object at 0x7f0c03eb0450>,PyObject <matplotlib.patches.Rectangle object at 0x7f0c03eb0ad0>,PyObject <matplotlib.patches.Rectangle object at 0x7f0c03eb0fd0>,PyObject <matplotlib.patches.Rectangle object at 0x7f0c03ebf810>,PyObject <matplotlib.patches.Rectangle object at 0x7f0c03ebfe90>,PyObject <matplotlib.patches.Rectangle object at 0x7f0c03e4b550>,PyObject <matplotlib.patches.Rectangle object at 0x7f0c03e4bbd0>,PyObject <matplotlib.patches.Rectangle object at 0x7f0c03e58290>,PyObject <matplotlib.patches.Rectangle object at 0x7f0c03e58910>,PyObject <matplotlib.patches.Rectangle object at 0x7f0c03e58f90>,PyObject <matplotlib.patches.Rectangle object at 0x7f0c03e65650>,PyObject <matplotlib.patches.Rectangle object at 0x7f0c03e65cd0>,PyObject <matplotlib.patches.Rectangle object at 0x7f0c03e74390>,PyObject <matplotlib.patches.Rectangle object at 0x7f0c03e74a10>,PyObject <matplotlib.patches.Rectangle object at 0x7f0c03e74f10>,PyObject <matplotlib.patches.Rectangle object at 0x7f0c03e01750>,PyObject <matplotlib.patches.Rectangle object at 0x7f0c03e01dd0>,PyObject <matplotlib.patches.Rectangle object at 0x7f0c03e0f490>,PyObject <matplotlib.patches.Rectangle object at 0x7f0c03e0fb10>,PyObject <matplotlib.patches.Rectangle object at 0x7f0c03e1d1d0>,PyObject <matplotlib.patches.Rectangle object at 0x7f0c03e1d850>,PyObject <matplotlib.patches.Rectangle object at 0x7f0c03e1ded0>,PyObject <matplotlib.patches.Rectangle object at 0x7f0c03e29590>,PyObject <matplotlib.patches.Rectangle object at 0x7f0c03e29c10>,PyObject <matplotlib.patches.Rectangle object at 0x7f0c03e372d0>,PyObject <matplotlib.patches.Rectangle object at 0x7f0c03e37950>,PyObject <matplotlib.patches.Rectangle object at 0x7f0c03e37fd0>,PyObject <matplotlib.patches.Rectangle object at 0x7f0c03dc5690>,PyObject <matplotlib.patches.Rectangle object at 0x7f0c03dc5d10>,PyObject <matplotlib.patches.Rectangle object at 0x7f0c03dd23d0>,PyObject <matplotlib.patches.Rectangle object at 0x7f0c03dd2a50>,PyObject <matplotlib.patches.Rectangle object at 0x7f0c03dd2f50>,PyObject <matplotlib.patches.Rectangle object at 0x7f0c03de0790>,PyObject <matplotlib.patches.Rectangle object at 0x7f0c03de0e10>,PyObject <matplotlib.patches.Rectangle object at 0x7f0c03ded4d0>,PyObject <matplotlib.patches.Rectangle object at 0x7f0c03dedb50>,PyObject <matplotlib.patches.Rectangle object at 0x7f0c03dfa210>,PyObject <matplotlib.patches.Rectangle object at 0x7f0c03dfa890>,PyObject <matplotlib.patches.Rectangle object at 0x7f0c03dfaf10>,PyObject <matplotlib.patches.Rectangle object at 0x7f0c03d885d0>,PyObject <matplotlib.patches.Rectangle object at 0x7f0c03d88c50>,PyObject <matplotlib.patches.Rectangle object at 0x7f0c03d96310>,PyObject <matplotlib.patches.Rectangle object at 0x7f0c03d96990>,PyObject <matplotlib.patches.Rectangle object at 0x7f0c03d96e90>,PyObject <matplotlib.patches.Rectangle object at 0x7f0c03da26d0>,PyObject <matplotlib.patches.Rectangle object at 0x7f0c03da2d50>,PyObject <matplotlib.patches.Rectangle object at 0x7f0c03db0410>,PyObject <matplotlib.patches.Rectangle object at 0x7f0c03db0a90>,PyObject <matplotlib.patches.Rectangle object at 0x7f0c03db0f90>,PyObject <matplotlib.patches.Rectangle object at 0x7f0c03dbe7d0>,PyObject <matplotlib.patches.Rectangle object at 0x7f0c03dbee50>,PyObject <matplotlib.patches.Rectangle object at 0x7f0c03d4b510>,PyObject <matplotlib.patches.Rectangle object at 0x7f0c03d4bb90>,PyObject <matplotlib.patches.Rectangle object at 0x7f0c03d59250>,PyObject <matplotlib.patches.Rectangle object at 0x7f0c03d598d0>,PyObject <matplotlib.patches.Rectangle object at 0x7f0c03d59f50>,PyObject <matplotlib.patches.Rectangle object at 0x7f0c03d68610>,PyObject <matplotlib.patches.Rectangle object at 0x7f0c03d68c90>,PyObject <matplotlib.patches.Rectangle object at 0x7f0c03d75350>,PyObject <matplotlib.patches.Rectangle object at 0x7f0c03d759d0>,PyObject <matplotlib.patches.Rectangle object at 0x7f0c03d75ed0>,PyObject <matplotlib.patches.Rectangle object at 0x7f0c03d02710>,PyObject <matplotlib.patches.Rectangle object at 0x7f0c03d02d90>,PyObject <matplotlib.patches.Rectangle object at 0x7f0c03d0f450>,PyObject <matplotlib.patches.Rectangle object at 0x7f0c03d0fad0>,PyObject <matplotlib.patches.Rectangle object at 0x7f0c03d0ffd0>,PyObject <matplotlib.patches.Rectangle object at 0x7f0c03d1d810>,PyObject <matplotlib.patches.Rectangle object at 0x7f0c03d1de90>,PyObject <matplotlib.patches.Rectangle object at 0x7f0c03d28550>,PyObject <matplotlib.patches.Rectangle object at 0x7f0c03d28bd0>,PyObject <matplotlib.patches.Rectangle object at 0x7f0c03d38290>,PyObject <matplotlib.patches.Rectangle object at 0x7f0c03d38910>,PyObject <matplotlib.patches.Rectangle object at 0x7f0c03d38f90>,PyObject <matplotlib.patches.Rectangle object at 0x7f0c03cc5650>,PyObject <matplotlib.patches.Rectangle object at 0x7f0c03cc5cd0>,PyObject <matplotlib.patches.Rectangle object at 0x7f0c03cd1390>,PyObject <matplotlib.patches.Rectangle object at 0x7f0c03cd1a10>,PyObject <matplotlib.patches.Rectangle object at 0x7f0c03cd1f10>,PyObject <matplotlib.patches.Rectangle object at 0x7f0c03cdf750>,PyObject <matplotlib.patches.Rectangle object at 0x7f0c03cdfdd0>,PyObject <matplotlib.patches.Rectangle object at 0x7f0c03ced490>,PyObject <matplotlib.patches.Rectangle object at 0x7f0c03cedb10>,PyObject <matplotlib.patches.Rectangle object at 0x7f0c03cfa1d0>,PyObject <matplotlib.patches.Rectangle object at 0x7f0c03cfa850>,PyObject <matplotlib.patches.Rectangle object at 0x7f0c03cfaed0>,PyObject <matplotlib.patches.Rectangle object at 0x7f0c03c88590>,PyObject <matplotlib.patches.Rectangle object at 0x7f0c03c88c10>,PyObject <matplotlib.patches.Rectangle object at 0x7f0c03c972d0>,PyObject <matplotlib.patches.Rectangle object at 0x7f0c03c97950>,PyObject <matplotlib.patches.Rectangle object at 0x7f0c03c97fd0>,PyObject <matplotlib.patches.Rectangle object at 0x7f0c03ca3690>,PyObject <matplotlib.patches.Rectangle object at 0x7f0c03ca3d10>,PyObject <matplotlib.patches.Rectangle object at 0x7f0c03cb03d0>,PyObject <matplotlib.patches.Rectangle object at 0x7f0c03cb0a50>,PyObject <matplotlib.patches.Rectangle object at 0x7f0c03cb0f50>,PyObject <matplotlib.patches.Rectangle object at 0x7f0c03cbe790>,PyObject <matplotlib.patches.Rectangle object at 0x7f0c03cbee10>,PyObject <matplotlib.patches.Rectangle object at 0x7f0c03c4a4d0>,PyObject <matplotlib.patches.Rectangle object at 0x7f0c03c4ab50>,PyObject <matplotlib.patches.Rectangle object at 0x7f0c03c59210>,PyObject <matplotlib.patches.Rectangle object at 0x7f0c03c59890>,PyObject <matplotlib.patches.Rectangle object at 0x7f0c03c59f10>,PyObject <matplotlib.patches.Rectangle object at 0x7f0c03c685d0>,PyObject <matplotlib.patches.Rectangle object at 0x7f0c03c68c50>,PyObject <matplotlib.patches.Rectangle object at 0x7f0c03c74310>,PyObject <matplotlib.patches.Rectangle object at 0x7f0c03c74990>,PyObject <matplotlib.patches.Rectangle object at 0x7f0c03c74e90>,PyObject <matplotlib.patches.Rectangle object at 0x7f0c03c036d0>,PyObject <matplotlib.patches.Rectangle object at 0x7f0c03c03d50>,PyObject <matplotlib.patches.Rectangle object at 0x7f0c03c10410>,PyObject <matplotlib.patches.Rectangle object at 0x7f0c03c10a90>,PyObject <matplotlib.patches.Rectangle object at 0x7f0c03c10f90>,PyObject <matplotlib.patches.Rectangle object at 0x7f0c03c1c7d0>,PyObject <matplotlib.patches.Rectangle object at 0x7f0c03c1ce50>,PyObject <matplotlib.patches.Rectangle object at 0x7f0c03c2b510>,PyObject <matplotlib.patches.Rectangle object at 0x7f0c03c2bb90>,PyObject <matplotlib.patches.Rectangle object at 0x7f0c03c38250>,PyObject <matplotlib.patches.Rectangle object at 0x7f0c03c388d0>,PyObject <matplotlib.patches.Rectangle object at 0x7f0c03c38f50>,PyObject <matplotlib.patches.Rectangle object at 0x7f0c03bc5610>,PyObject <matplotlib.patches.Rectangle object at 0x7f0c03bc5c90>,PyObject <matplotlib.patches.Rectangle object at 0x7f0c03bd2350>,PyObject <matplotlib.patches.Rectangle object at 0x7f0c03bd29d0>,PyObject <matplotlib.patches.Rectangle object at 0x7f0c03bd2ed0>,PyObject <matplotlib.patches.Rectangle object at 0x7f0c03be0710>,PyObject <matplotlib.patches.Rectangle object at 0x7f0c03be0d90>,PyObject <matplotlib.patches.Rectangle object at 0x7f0c03bed450>,PyObject <matplotlib.patches.Rectangle object at 0x7f0c03bedad0>,PyObject <matplotlib.patches.Rectangle object at 0x7f0c03bedfd0>,PyObject <matplotlib.patches.Rectangle object at 0x7f0c03bfb810>,PyObject <matplotlib.patches.Rectangle object at 0x7f0c03bfbe90>,PyObject <matplotlib.patches.Rectangle object at 0x7f0c03b88550>,PyObject <matplotlib.patches.Rectangle object at 0x7f0c03b88bd0>,PyObject <matplotlib.patches.Rectangle object at 0x7f0c03b96290>,PyObject <matplotlib.patches.Rectangle object at 0x7f0c03b96910>,PyObject <matplotlib.patches.Rectangle object at 0x7f0c03b96f90>,PyObject <matplotlib.patches.Rectangle object at 0x7f0c03ba2650>,PyObject <matplotlib.patches.Rectangle object at 0x7f0c03ba2cd0>,PyObject <matplotlib.patches.Rectangle object at 0x7f0c03bb0390>,PyObject <matplotlib.patches.Rectangle object at 0x7f0c03bb0a10>,PyObject <matplotlib.patches.Rectangle object at 0x7f0c03bb0f10>,PyObject <matplotlib.patches.Rectangle object at 0x7f0c03bbe750>,PyObject <matplotlib.patches.Rectangle object at 0x7f0c03bbedd0>,PyObject <matplotlib.patches.Rectangle object at 0x7f0c03b4b490>,PyObject <matplotlib.patches.Rectangle object at 0x7f0c03b4bb10>,PyObject <matplotlib.patches.Rectangle object at 0x7f0c03b5a1d0>,PyObject <matplotlib.patches.Rectangle object at 0x7f0c03b5a850>,PyObject <matplotlib.patches.Rectangle object at 0x7f0c03b5aed0>,PyObject <matplotlib.patches.Rectangle object at 0x7f0c03b67590>,PyObject <matplotlib.patches.Rectangle object at 0x7f0c03b67c10>,PyObject <matplotlib.patches.Rectangle object at 0x7f0c03b732d0>,PyObject <matplotlib.patches.Rectangle object at 0x7f0c03b73950>,PyObject <matplotlib.patches.Rectangle object at 0x7f0c03b73fd0>,PyObject <matplotlib.patches.Rectangle object at 0x7f0c03b01690>,PyObject <matplotlib.patches.Rectangle object at 0x7f0c03b01d10>,PyObject <matplotlib.patches.Rectangle object at 0x7f0c03b0f3d0>,PyObject <matplotlib.patches.Rectangle object at 0x7f0c03b0fa50>,PyObject <matplotlib.patches.Rectangle object at 0x7f0c03b0ff50>,PyObject <matplotlib.patches.Rectangle object at 0x7f0c03b1d790>,PyObject <matplotlib.patches.Rectangle object at 0x7f0c03b1de10>,PyObject <matplotlib.patches.Rectangle object at 0x7f0c03b2a4d0>,PyObject <matplotlib.patches.Rectangle object at 0x7f0c03b2ab50>,PyObject <matplotlib.patches.Rectangle object at 0x7f0c03b3a210>,PyObject <matplotlib.patches.Rectangle object at 0x7f0c03b3a890>,PyObject <matplotlib.patches.Rectangle object at 0x7f0c03b3af10>,PyObject <matplotlib.patches.Rectangle object at 0x7f0c03ac65d0>,PyObject <matplotlib.patches.Rectangle object at 0x7f0c03ac6c50>,PyObject <matplotlib.patches.Rectangle object at 0x7f0c03ad3310>,PyObject <matplotlib.patches.Rectangle object at 0x7f0c03ad3990>,PyObject <matplotlib.patches.Rectangle object at 0x7f0c03ad3e90>,PyObject <matplotlib.patches.Rectangle object at 0x7f0c03ae16d0>,PyObject <matplotlib.patches.Rectangle object at 0x7f0c03ae1d50>,PyObject <matplotlib.patches.Rectangle object at 0x7f0c03aee410>,PyObject <matplotlib.patches.Rectangle object at 0x7f0c03aeea90>,PyObject <matplotlib.patches.Rectangle object at 0x7f0c03aeef90>,PyObject <matplotlib.patches.Rectangle object at 0x7f0c03afb7d0>,PyObject <matplotlib.patches.Rectangle object at 0x7f0c03afbe50>,PyObject <matplotlib.patches.Rectangle object at 0x7f0c03a88510>,PyObject <matplotlib.patches.Rectangle object at 0x7f0c03a88b90>,PyObject <matplotlib.patches.Rectangle object at 0x7f0c03a96250>,PyObject <matplotlib.patches.Rectangle object at 0x7f0c03a968d0>,PyObject <matplotlib.patches.Rectangle object at 0x7f0c03a96f50>,PyObject <matplotlib.patches.Rectangle object at 0x7f0c03aa3610>,PyObject <matplotlib.patches.Rectangle object at 0x7f0c03aa3c90>,PyObject <matplotlib.patches.Rectangle object at 0x7f0c03ab2350>,PyObject <matplotlib.patches.Rectangle object at 0x7f0c03ab29d0>,PyObject <matplotlib.patches.Rectangle object at 0x7f0c03ab2ed0>,PyObject <matplotlib.patches.Rectangle object at 0x7f0c03abf710>,PyObject <matplotlib.patches.Rectangle object at 0x7f0c03abfd90>,PyObject <matplotlib.patches.Rectangle object at 0x7f0c03a4c450>,PyObject <matplotlib.patches.Rectangle object at 0x7f0c03a4cad0>,PyObject <matplotlib.patches.Rectangle object at 0x7f0c03a4cfd0>,PyObject <matplotlib.patches.Rectangle object at 0x7f0c03a5b810>,PyObject <matplotlib.patches.Rectangle object at 0x7f0c03a5be90>,PyObject <matplotlib.patches.Rectangle object at 0x7f0c03a67550>,PyObject <matplotlib.patches.Rectangle object at 0x7f0c03a67bd0>,PyObject <matplotlib.patches.Rectangle object at 0x7f0c03a74290>,PyObject <matplotlib.patches.Rectangle object at 0x7f0c03a74910>,PyObject <matplotlib.patches.Rectangle object at 0x7f0c03a74f90>,PyObject <matplotlib.patches.Rectangle object at 0x7f0c03a03650>,PyObject <matplotlib.patches.Rectangle object at 0x7f0c03a03cd0>,PyObject <matplotlib.patches.Rectangle object at 0x7f0c03a10390>,PyObject <matplotlib.patches.Rectangle object at 0x7f0c03a10a10>,PyObject <matplotlib.patches.Rectangle object at 0x7f0c03a10f10>,PyObject <matplotlib.patches.Rectangle object at 0x7f0c03a1c750>,PyObject <matplotlib.patches.Rectangle object at 0x7f0c03a1cdd0>,PyObject <matplotlib.patches.Rectangle object at 0x7f0c03a2a490>,PyObject <matplotlib.patches.Rectangle object at 0x7f0c03a2ab10>,PyObject <matplotlib.patches.Rectangle object at 0x7f0c03a381d0>,PyObject <matplotlib.patches.Rectangle object at 0x7f0c03a38850>,PyObject <matplotlib.patches.Rectangle object at 0x7f0c03a38ed0>,PyObject <matplotlib.patches.Rectangle object at 0x7f0c039c4590>,PyObject <matplotlib.patches.Rectangle object at 0x7f0c039c4c10>,PyObject <matplotlib.patches.Rectangle object at 0x7f0c039d32d0>,PyObject <matplotlib.patches.Rectangle object at 0x7f0c039d3950>,PyObject <matplotlib.patches.Rectangle object at 0x7f0c039d3fd0>,PyObject <matplotlib.patches.Rectangle object at 0x7f0c039e1690>,PyObject <matplotlib.patches.Rectangle object at 0x7f0c039e1d10>,PyObject <matplotlib.patches.Rectangle object at 0x7f0c039ee3d0>,PyObject <matplotlib.patches.Rectangle object at 0x7f0c039eea50>,PyObject <matplotlib.patches.Rectangle object at 0x7f0c039eef50>,PyObject <matplotlib.patches.Rectangle object at 0x7f0c039fb790>,PyObject <matplotlib.patches.Rectangle object at 0x7f0c039fbe10>,PyObject <matplotlib.patches.Rectangle object at 0x7f0c039884d0>,PyObject <matplotlib.patches.Rectangle object at 0x7f0c03988b50>,PyObject <matplotlib.patches.Rectangle object at 0x7f0c03995210>,PyObject <matplotlib.patches.Rectangle object at 0x7f0c03995890>,PyObject <matplotlib.patches.Rectangle object at 0x7f0c03995f10>,PyObject <matplotlib.patches.Rectangle object at 0x7f0c039a45d0>,PyObject <matplotlib.patches.Rectangle object at 0x7f0c039a4c50>,PyObject <matplotlib.patches.Rectangle object at 0x7f0c039b3310>,PyObject <matplotlib.patches.Rectangle object at 0x7f0c039b3990>,PyObject <matplotlib.patches.Rectangle object at 0x7f0c039b3e90>,PyObject <matplotlib.patches.Rectangle object at 0x7f0c039406d0>,PyObject <matplotlib.patches.Rectangle object at 0x7f0c03940d50>,PyObject <matplotlib.patches.Rectangle object at 0x7f0c0394c410>,PyObject <matplotlib.patches.Rectangle object at 0x7f0c0394ca90>,PyObject <matplotlib.patches.Rectangle object at 0x7f0c0394cf90>,PyObject <matplotlib.patches.Rectangle object at 0x7f0c0395a7d0>,PyObject <matplotlib.patches.Rectangle object at 0x7f0c0395ae50>,PyObject <matplotlib.patches.Rectangle object at 0x7f0c03968510>,PyObject <matplotlib.patches.Rectangle object at 0x7f0c03968b90>,PyObject <matplotlib.patches.Rectangle object at 0x7f0c03975250>,PyObject <matplotlib.patches.Rectangle object at 0x7f0c039758d0>,PyObject <matplotlib.patches.Rectangle object at 0x7f0c03975f50>,PyObject <matplotlib.patches.Rectangle object at 0x7f0c03903610>,PyObject <matplotlib.patches.Rectangle object at 0x7f0c03903c90>,PyObject <matplotlib.patches.Rectangle object at 0x7f0c03911350>,PyObject <matplotlib.patches.Rectangle object at 0x7f0c039119d0>,PyObject <matplotlib.patches.Rectangle object at 0x7f0c03911ed0>,PyObject <matplotlib.patches.Rectangle object at 0x7f0c0391d710>,PyObject <matplotlib.patches.Rectangle object at 0x7f0c0391dd90>,PyObject <matplotlib.patches.Rectangle object at 0x7f0c0392a450>,PyObject <matplotlib.patches.Rectangle object at 0x7f0c0392aad0>,PyObject <matplotlib.patches.Rectangle object at 0x7f0c0392afd0>,PyObject <matplotlib.patches.Rectangle object at 0x7f0c03938810>,PyObject <matplotlib.patches.Rectangle object at 0x7f0c03938e90>,PyObject <matplotlib.patches.Rectangle object at 0x7f0c038c6550>,PyObject <matplotlib.patches.Rectangle object at 0x7f0c038c6bd0>,PyObject <matplotlib.patches.Rectangle object at 0x7f0c038d3290>,PyObject <matplotlib.patches.Rectangle object at 0x7f0c038d3910>,PyObject <matplotlib.patches.Rectangle object at 0x7f0c038d3f90>,PyObject <matplotlib.patches.Rectangle object at 0x7f0c038e1650>,PyObject <matplotlib.patches.Rectangle object at 0x7f0c038e1cd0>,PyObject <matplotlib.patches.Rectangle object at 0x7f0c038ee390>,PyObject <matplotlib.patches.Rectangle object at 0x7f0c038eea10>,PyObject <matplotlib.patches.Rectangle object at 0x7f0c038eef10>,PyObject <matplotlib.patches.Rectangle object at 0x7f0c038fb750>,PyObject <matplotlib.patches.Rectangle object at 0x7f0c038fbdd0>,PyObject <matplotlib.patches.Rectangle object at 0x7f0c03889490>,PyObject <matplotlib.patches.Rectangle object at 0x7f0c03889b10>,PyObject <matplotlib.patches.Rectangle object at 0x7f0c038981d0>,PyObject <matplotlib.patches.Rectangle object at 0x7f0c03898850>,PyObject <matplotlib.patches.Rectangle object at 0x7f0c03898ed0>,PyObject <matplotlib.patches.Rectangle object at 0x7f0c038a5590>,PyObject <matplotlib.patches.Rectangle object at 0x7f0c038a5c10>,PyObject <matplotlib.patches.Rectangle object at 0x7f0c038b22d0>,PyObject <matplotlib.patches.Rectangle object at 0x7f0c038b2950>,PyObject <matplotlib.patches.Rectangle object at 0x7f0c038b2fd0>,PyObject <matplotlib.patches.Rectangle object at 0x7f0c038bf690>,PyObject <matplotlib.patches.Rectangle object at 0x7f0c038bfd10>,PyObject <matplotlib.patches.Rectangle object at 0x7f0c0384c3d0>,PyObject <matplotlib.patches.Rectangle object at 0x7f0c0384ca50>,PyObject <matplotlib.patches.Rectangle object at 0x7f0c0384cf50>,PyObject <matplotlib.patches.Rectangle object at 0x7f0c03859790>,PyObject <matplotlib.patches.Rectangle object at 0x7f0c03859e10>,PyObject <matplotlib.patches.Rectangle object at 0x7f0c038674d0>,PyObject <matplotlib.patches.Rectangle object at 0x7f0c03867b50>,PyObject <matplotlib.patches.Rectangle object at 0x7f0c03875210>,PyObject <matplotlib.patches.Rectangle object at 0x7f0c03875890>,PyObject <matplotlib.patches.Rectangle object at 0x7f0c03875f10>,PyObject <matplotlib.patches.Rectangle object at 0x7f0c038035d0>,PyObject <matplotlib.patches.Rectangle object at 0x7f0c03803c50>,PyObject <matplotlib.patches.Rectangle object at 0x7f0c0380f310>,PyObject <matplotlib.patches.Rectangle object at 0x7f0c0380f990>,PyObject <matplotlib.patches.Rectangle object at 0x7f0c0380fe90>,PyObject <matplotlib.patches.Rectangle object at 0x7f0c0381c6d0>,PyObject <matplotlib.patches.Rectangle object at 0x7f0c0381cd50>,PyObject <matplotlib.patches.Rectangle object at 0x7f0c0382a410>,PyObject <matplotlib.patches.Rectangle object at 0x7f0c0382aa90>,PyObject <matplotlib.patches.Rectangle object at 0x7f0c0382af90>,PyObject <matplotlib.patches.Rectangle object at 0x7f0c038387d0>,PyObject <matplotlib.patches.Rectangle object at 0x7f0c03838e50>,PyObject <matplotlib.patches.Rectangle object at 0x7f0c037c6510>,PyObject <matplotlib.patches.Rectangle object at 0x7f0c037c6b90>,PyObject <matplotlib.patches.Rectangle object at 0x7f0c037d4250>,PyObject <matplotlib.patches.Rectangle object at 0x7f0c037d48d0>,PyObject <matplotlib.patches.Rectangle object at 0x7f0c037d4f50>,PyObject <matplotlib.patches.Rectangle object at 0x7f0c037e1610>,PyObject <matplotlib.patches.Rectangle object at 0x7f0c037e1c90>,PyObject <matplotlib.patches.Rectangle object at 0x7f0c037ef350>,PyObject <matplotlib.patches.Rectangle object at 0x7f0c037ef9d0>,PyObject <matplotlib.patches.Rectangle object at 0x7f0c037efed0>,PyObject <matplotlib.patches.Rectangle object at 0x7f0c037fc710>,PyObject <matplotlib.patches.Rectangle object at 0x7f0c037fcd90>,PyObject <matplotlib.patches.Rectangle object at 0x7f0c0378b450>,PyObject <matplotlib.patches.Rectangle object at 0x7f0c0378bad0>,PyObject <matplotlib.patches.Rectangle object at 0x7f0c0378bfd0>,PyObject <matplotlib.patches.Rectangle object at 0x7f0c03798810>,PyObject <matplotlib.patches.Rectangle object at 0x7f0c03798e90>,PyObject <matplotlib.patches.Rectangle object at 0x7f0c037a4550>,PyObject <matplotlib.patches.Rectangle object at 0x7f0c037a4bd0>,PyObject <matplotlib.patches.Rectangle object at 0x7f0c037b3290>,PyObject <matplotlib.patches.Rectangle object at 0x7f0c037b3910>,PyObject <matplotlib.patches.Rectangle object at 0x7f0c037b3f90>,PyObject <matplotlib.patches.Rectangle object at 0x7f0c03740650>,PyObject <matplotlib.patches.Rectangle object at 0x7f0c03740cd0>,PyObject <matplotlib.patches.Rectangle object at 0x7f0c0374c390>,PyObject <matplotlib.patches.Rectangle object at 0x7f0c0374ca10>,PyObject <matplotlib.patches.Rectangle object at 0x7f0c0374cf10>,PyObject <matplotlib.patches.Rectangle object at 0x7f0c0375b750>,PyObject <matplotlib.patches.Rectangle object at 0x7f0c0375bdd0>,PyObject <matplotlib.patches.Rectangle object at 0x7f0c03768490>,PyObject <matplotlib.patches.Rectangle object at 0x7f0c03768b10>,PyObject <matplotlib.patches.Rectangle object at 0x7f0c037751d0>,PyObject <matplotlib.patches.Rectangle object at 0x7f0c03775850>,PyObject <matplotlib.patches.Rectangle object at 0x7f0c03775ed0>,PyObject <matplotlib.patches.Rectangle object at 0x7f0c03702590>,PyObject <matplotlib.patches.Rectangle object at 0x7f0c03702c10>,PyObject <matplotlib.patches.Rectangle object at 0x7f0c037102d0>,PyObject <matplotlib.patches.Rectangle object at 0x7f0c03710950>,PyObject <matplotlib.patches.Rectangle object at 0x7f0c03710fd0>,PyObject <matplotlib.patches.Rectangle object at 0x7f0c0371d690>,PyObject <matplotlib.patches.Rectangle object at 0x7f0c0371dd10>,PyObject <matplotlib.patches.Rectangle object at 0x7f0c0372b3d0>,PyObject <matplotlib.patches.Rectangle object at 0x7f0c0372ba50>,PyObject <matplotlib.patches.Rectangle object at 0x7f0c0372bf50>,PyObject <matplotlib.patches.Rectangle object at 0x7f0c03738790>,PyObject <matplotlib.patches.Rectangle object at 0x7f0c03738e10>,PyObject <matplotlib.patches.Rectangle object at 0x7f0c036c64d0>,PyObject <matplotlib.patches.Rectangle object at 0x7f0c036c6b50>,PyObject <matplotlib.patches.Rectangle object at 0x7f0c036d3210>,PyObject <matplotlib.patches.Rectangle object at 0x7f0c036d3890>,PyObject <matplotlib.patches.Rectangle object at 0x7f0c036d3f10>,PyObject <matplotlib.patches.Rectangle object at 0x7f0c036e15d0>,PyObject <matplotlib.patches.Rectangle object at 0x7f0c036e1c50>,PyObject <matplotlib.patches.Rectangle object at 0x7f0c036ef310>,PyObject <matplotlib.patches.Rectangle object at 0x7f0c036ef990>,PyObject <matplotlib.patches.Rectangle object at 0x7f0c036efe90>,PyObject <matplotlib.patches.Rectangle object at 0x7f0c036fc6d0>,PyObject <matplotlib.patches.Rectangle object at 0x7f0c036fcd50>,PyObject <matplotlib.patches.Rectangle object at 0x7f0c03689410>,PyObject <matplotlib.patches.Rectangle object at 0x7f0c03689a90>,PyObject <matplotlib.patches.Rectangle object at 0x7f0c03689f90>,PyObject <matplotlib.patches.Rectangle object at 0x7f0c036977d0>,PyObject <matplotlib.patches.Rectangle object at 0x7f0c03697e50>,PyObject <matplotlib.patches.Rectangle object at 0x7f0c036a4510>,PyObject <matplotlib.patches.Rectangle object at 0x7f0c036a4b90>,PyObject <matplotlib.patches.Rectangle object at 0x7f0c036b1250>,PyObject <matplotlib.patches.Rectangle object at 0x7f0c036b18d0>,PyObject <matplotlib.patches.Rectangle object at 0x7f0c036b1f50>,PyObject <matplotlib.patches.Rectangle object at 0x7f0c036bf610>,PyObject <matplotlib.patches.Rectangle object at 0x7f0c036bfc90>,PyObject <matplotlib.patches.Rectangle object at 0x7f0c0364e350>,PyObject <matplotlib.patches.Rectangle object at 0x7f0c0364e9d0>,PyObject <matplotlib.patches.Rectangle object at 0x7f0c0364eed0>,PyObject <matplotlib.patches.Rectangle object at 0x7f0c0365a710>,PyObject <matplotlib.patches.Rectangle object at 0x7f0c0365ad90>,PyObject <matplotlib.patches.Rectangle object at 0x7f0c03668450>,PyObject <matplotlib.patches.Rectangle object at 0x7f0c03668ad0>,PyObject <matplotlib.patches.Rectangle object at 0x7f0c03668fd0>,PyObject <matplotlib.patches.Rectangle object at 0x7f0c03676810>,PyObject <matplotlib.patches.Rectangle object at 0x7f0c03676e90>,PyObject <matplotlib.patches.Rectangle object at 0x7f0c03602550>,PyObject <matplotlib.patches.Rectangle object at 0x7f0c03602bd0>,PyObject <matplotlib.patches.Rectangle object at 0x7f0c03610290>,PyObject <matplotlib.patches.Rectangle object at 0x7f0c03610910>,PyObject <matplotlib.patches.Rectangle object at 0x7f0c03610f90>,PyObject <matplotlib.patches.Rectangle object at 0x7f0c0361e650>,PyObject <matplotlib.patches.Rectangle object at 0x7f0c0361ecd0>,PyObject <matplotlib.patches.Rectangle object at 0x7f0c0362c390>,PyObject <matplotlib.patches.Rectangle object at 0x7f0c0362ca10>,PyObject <matplotlib.patches.Rectangle object at 0x7f0c0362cf10>,PyObject <matplotlib.patches.Rectangle object at 0x7f0c03638750>,PyObject <matplotlib.patches.Rectangle object at 0x7f0c03638dd0>,PyObject <matplotlib.patches.Rectangle object at 0x7f0c035c7490>,PyObject <matplotlib.patches.Rectangle object at 0x7f0c035c7b10>,PyObject <matplotlib.patches.Rectangle object at 0x7f0c035d51d0>,PyObject <matplotlib.patches.Rectangle object at 0x7f0c035d5850>,PyObject <matplotlib.patches.Rectangle object at 0x7f0c035d5ed0>,PyObject <matplotlib.patches.Rectangle object at 0x7f0c035e1590>,PyObject <matplotlib.patches.Rectangle object at 0x7f0c035e1c10>,PyObject <matplotlib.patches.Rectangle object at 0x7f0c035f02d0>,PyObject <matplotlib.patches.Rectangle object at 0x7f0c035f0950>,PyObject <matplotlib.patches.Rectangle object at 0x7f0c035f0fd0>,PyObject <matplotlib.patches.Rectangle object at 0x7f0c035fd690>,PyObject <matplotlib.patches.Rectangle object at 0x7f0c035fdd10>,PyObject <matplotlib.patches.Rectangle object at 0x7f0c0358a3d0>,PyObject <matplotlib.patches.Rectangle object at 0x7f0c0358aa50>,PyObject <matplotlib.patches.Rectangle object at 0x7f0c0358af50>,PyObject <matplotlib.patches.Rectangle object at 0x7f0c03597790>,PyObject <matplotlib.patches.Rectangle object at 0x7f0c03597e10>,PyObject <matplotlib.patches.Rectangle object at 0x7f0c035a44d0>,PyObject <matplotlib.patches.Rectangle object at 0x7f0c035a4b50>,PyObject <matplotlib.patches.Rectangle object at 0x7f0c035b3210>,PyObject <matplotlib.patches.Rectangle object at 0x7f0c035b3890>,PyObject <matplotlib.patches.Rectangle object at 0x7f0c035b3f10>,PyObject <matplotlib.patches.Rectangle object at 0x7f0c035415d0>,PyObject <matplotlib.patches.Rectangle object at 0x7f0c03541c50>,PyObject <matplotlib.patches.Rectangle object at 0x7f0c0354d310>,PyObject <matplotlib.patches.Rectangle object at 0x7f0c0354d990>,PyObject <matplotlib.patches.Rectangle object at 0x7f0c0354de90>,PyObject <matplotlib.patches.Rectangle object at 0x7f0c0355a6d0>,PyObject <matplotlib.patches.Rectangle object at 0x7f0c0355ad50>,PyObject <matplotlib.patches.Rectangle object at 0x7f0c03568410>,PyObject <matplotlib.patches.Rectangle object at 0x7f0c03568a90>,PyObject <matplotlib.patches.Rectangle object at 0x7f0c03568f90>,PyObject <matplotlib.patches.Rectangle object at 0x7f0c035747d0>,PyObject <matplotlib.patches.Rectangle object at 0x7f0c03574e50>,PyObject <matplotlib.patches.Rectangle object at 0x7f0c03502510>,PyObject <matplotlib.patches.Rectangle object at 0x7f0c03502b90>,PyObject <matplotlib.patches.Rectangle object at 0x7f0c03511250>,PyObject <matplotlib.patches.Rectangle object at 0x7f0c035118d0>,PyObject <matplotlib.patches.Rectangle object at 0x7f0c03511f50>,PyObject <matplotlib.patches.Rectangle object at 0x7f0c0351f610>,PyObject <matplotlib.patches.Rectangle object at 0x7f0c0351fc90>,PyObject <matplotlib.patches.Rectangle object at 0x7f0c0352a350>,PyObject <matplotlib.patches.Rectangle object at 0x7f0c0352a9d0>,PyObject <matplotlib.patches.Rectangle object at 0x7f0c0352aed0>,PyObject <matplotlib.patches.Rectangle object at 0x7f0c03538710>,PyObject <matplotlib.patches.Rectangle object at 0x7f0c03538d90>,PyObject <matplotlib.patches.Rectangle object at 0x7f0c034c6450>,PyObject <matplotlib.patches.Rectangle object at 0x7f0c034c6ad0>,PyObject <matplotlib.patches.Rectangle object at 0x7f0c034c6fd0>,PyObject <matplotlib.patches.Rectangle object at 0x7f0c034d4810>,PyObject <matplotlib.patches.Rectangle object at 0x7f0c034d4e90>,PyObject <matplotlib.patches.Rectangle object at 0x7f0c034e2550>,PyObject <matplotlib.patches.Rectangle object at 0x7f0c034e2bd0>,PyObject <matplotlib.patches.Rectangle object at 0x7f0c034f1290>,PyObject <matplotlib.patches.Rectangle object at 0x7f0c034f1910>,PyObject <matplotlib.patches.Rectangle object at 0x7f0c034f1f90>,PyObject <matplotlib.patches.Rectangle object at 0x7f0c034fc650>,PyObject <matplotlib.patches.Rectangle object at 0x7f0c034fccd0>,PyObject <matplotlib.patches.Rectangle object at 0x7f0c0348a390>,PyObject <matplotlib.patches.Rectangle object at 0x7f0c0348aa10>,PyObject <matplotlib.patches.Rectangle object at 0x7f0c0348af10>,PyObject <matplotlib.patches.Rectangle object at 0x7f0c03498750>,PyObject <matplotlib.patches.Rectangle object at 0x7f0c03498dd0>,PyObject <matplotlib.patches.Rectangle object at 0x7f0c034a6490>,PyObject <matplotlib.patches.Rectangle object at 0x7f0c034a6b10>,PyObject <matplotlib.patches.Rectangle object at 0x7f0c034b31d0>,PyObject <matplotlib.patches.Rectangle object at 0x7f0c034b3850>,PyObject <matplotlib.patches.Rectangle object at 0x7f0c034b3ed0>,PyObject <matplotlib.patches.Rectangle object at 0x7f0c03440590>,PyObject <matplotlib.patches.Rectangle object at 0x7f0c03440c10>,PyObject <matplotlib.patches.Rectangle object at 0x7f0c0344e2d0>,PyObject <matplotlib.patches.Rectangle object at 0x7f0c0344e950>,PyObject <matplotlib.patches.Rectangle object at 0x7f0c0344efd0>,PyObject <matplotlib.patches.Rectangle object at 0x7f0c0345a690>,PyObject <matplotlib.patches.Rectangle object at 0x7f0c0345ad10>,PyObject <matplotlib.patches.Rectangle object at 0x7f0c034683d0>,PyObject <matplotlib.patches.Rectangle object at 0x7f0c03468a50>,PyObject <matplotlib.patches.Rectangle object at 0x7f0c03468f50>,PyObject <matplotlib.patches.Rectangle object at 0x7f0c03476790>,PyObject <matplotlib.patches.Rectangle object at 0x7f0c03476e10>,PyObject <matplotlib.patches.Rectangle object at 0x7f0c034034d0>,PyObject <matplotlib.patches.Rectangle object at 0x7f0c03403b50>,PyObject <matplotlib.patches.Rectangle object at 0x7f0c03411210>,PyObject <matplotlib.patches.Rectangle object at 0x7f0c03411890>,PyObject <matplotlib.patches.Rectangle object at 0x7f0c03411f10>,PyObject <matplotlib.patches.Rectangle object at 0x7f0c034205d0>,PyObject <matplotlib.patches.Rectangle object at 0x7f0c03420c50>,PyObject <matplotlib.patches.Rectangle object at 0x7f0c0342c310>,PyObject <matplotlib.patches.Rectangle object at 0x7f0c0342c990>,PyObject <matplotlib.patches.Rectangle object at 0x7f0c0342ce90>,PyObject <matplotlib.patches.Rectangle object at 0x7f0c034396d0>,PyObject <matplotlib.patches.Rectangle object at 0x7f0c03439d50>,PyObject <matplotlib.patches.Rectangle object at 0x7f0c033c8410>,PyObject <matplotlib.patches.Rectangle object at 0x7f0c033c8a90>,PyObject <matplotlib.patches.Rectangle object at 0x7f0c033c8f90>,PyObject <matplotlib.patches.Rectangle object at 0x7f0c033d37d0>,PyObject <matplotlib.patches.Rectangle object at 0x7f0c033d3e50>,PyObject <matplotlib.patches.Rectangle object at 0x7f0c033e1510>,PyObject <matplotlib.patches.Rectangle object at 0x7f0c033e1b90>,PyObject <matplotlib.patches.Rectangle object at 0x7f0c033ef250>,PyObject <matplotlib.patches.Rectangle object at 0x7f0c033ef8d0>,PyObject <matplotlib.patches.Rectangle object at 0x7f0c033eff50>,PyObject <matplotlib.patches.Rectangle object at 0x7f0c033fb610>,PyObject <matplotlib.patches.Rectangle object at 0x7f0c033fbc90>,PyObject <matplotlib.patches.Rectangle object at 0x7f0c0338a350>,PyObject <matplotlib.patches.Rectangle object at 0x7f0c0338a9d0>,PyObject <matplotlib.patches.Rectangle object at 0x7f0c0338aed0>,PyObject <matplotlib.patches.Rectangle object at 0x7f0c03398710>,PyObject <matplotlib.patches.Rectangle object at 0x7f0c03398d90>,PyObject <matplotlib.patches.Rectangle object at 0x7f0c033a4450>,PyObject <matplotlib.patches.Rectangle object at 0x7f0c033a4ad0>,PyObject <matplotlib.patches.Rectangle object at 0x7f0c033a4fd0>,PyObject <matplotlib.patches.Rectangle object at 0x7f0c033b3810>,PyObject <matplotlib.patches.Rectangle object at 0x7f0c033b3e90>,PyObject <matplotlib.patches.Rectangle object at 0x7f0c03340550>,PyObject <matplotlib.patches.Rectangle object at 0x7f0c03340bd0>,PyObject <matplotlib.patches.Rectangle object at 0x7f0c0334c290>,PyObject <matplotlib.patches.Rectangle object at 0x7f0c0334c910>,PyObject <matplotlib.patches.Rectangle object at 0x7f0c0334cf90>,PyObject <matplotlib.patches.Rectangle object at 0x7f0c0335a650>,PyObject <matplotlib.patches.Rectangle object at 0x7f0c0335acd0>,PyObject <matplotlib.patches.Rectangle object at 0x7f0c0336a390>,PyObject <matplotlib.patches.Rectangle object at 0x7f0c0336aa10>,PyObject <matplotlib.patches.Rectangle object at 0x7f0c0336af10>,PyObject <matplotlib.patches.Rectangle object at 0x7f0c03375750>,PyObject <matplotlib.patches.Rectangle object at 0x7f0c03375dd0>,PyObject <matplotlib.patches.Rectangle object at 0x7f0c03304490>,PyObject <matplotlib.patches.Rectangle object at 0x7f0c03304b10>,PyObject <matplotlib.patches.Rectangle object at 0x7f0c033131d0>,PyObject <matplotlib.patches.Rectangle object at 0x7f0c03313850>,PyObject <matplotlib.patches.Rectangle object at 0x7f0c03313ed0>,PyObject <matplotlib.patches.Rectangle object at 0x7f0c03320590>,PyObject <matplotlib.patches.Rectangle object at 0x7f0c03320c10>,PyObject <matplotlib.patches.Rectangle object at 0x7f0c0332c2d0>,PyObject <matplotlib.patches.Rectangle object at 0x7f0c0332c950>,PyObject <matplotlib.patches.Rectangle object at 0x7f0c0332cfd0>,PyObject <matplotlib.patches.Rectangle object at 0x7f0c0333b690>,PyObject <matplotlib.patches.Rectangle object at 0x7f0c0333bd10>,PyObject <matplotlib.patches.Rectangle object at 0x7f0c032c93d0>,PyObject <matplotlib.patches.Rectangle object at 0x7f0c032c9a50>,PyObject <matplotlib.patches.Rectangle object at 0x7f0c032c9f50>,PyObject <matplotlib.patches.Rectangle object at 0x7f0c032d4790>,PyObject <matplotlib.patches.Rectangle object at 0x7f0c032d4e10>,PyObject <matplotlib.patches.Rectangle object at 0x7f0c032e24d0>,PyObject <matplotlib.patches.Rectangle object at 0x7f0c032e2b50>,PyObject <matplotlib.patches.Rectangle object at 0x7f0c032f1210>,PyObject <matplotlib.patches.Rectangle object at 0x7f0c032f1890>,PyObject <matplotlib.patches.Rectangle object at 0x7f0c032f1f10>,PyObject <matplotlib.patches.Rectangle object at 0x7f0c032fb5d0>,PyObject <matplotlib.patches.Rectangle object at 0x7f0c032fbc50>,PyObject <matplotlib.patches.Rectangle object at 0x7f0c0328a310>,PyObject <matplotlib.patches.Rectangle object at 0x7f0c0328a990>,PyObject <matplotlib.patches.Rectangle object at 0x7f0c0328ae90>,PyObject <matplotlib.patches.Rectangle object at 0x7f0c032986d0>,PyObject <matplotlib.patches.Rectangle object at 0x7f0c03298d50>,PyObject <matplotlib.patches.Rectangle object at 0x7f0c032a4410>,PyObject <matplotlib.patches.Rectangle object at 0x7f0c032a4a90>,PyObject <matplotlib.patches.Rectangle object at 0x7f0c032a4f90>,PyObject <matplotlib.patches.Rectangle object at 0x7f0c032b17d0>,PyObject <matplotlib.patches.Rectangle object at 0x7f0c032b1e50>,PyObject <matplotlib.patches.Rectangle object at 0x7f0c03240510>,PyObject <matplotlib.patches.Rectangle object at 0x7f0c03240b90>,PyObject <matplotlib.patches.Rectangle object at 0x7f0c0324d250>,PyObject <matplotlib.patches.Rectangle object at 0x7f0c0324d8d0>,PyObject <matplotlib.patches.Rectangle object at 0x7f0c0324df50>,PyObject <matplotlib.patches.Rectangle object at 0x7f0c0325b610>,PyObject <matplotlib.patches.Rectangle object at 0x7f0c0325bc90>,PyObject <matplotlib.patches.Rectangle object at 0x7f0c0326a350>,PyObject <matplotlib.patches.Rectangle object at 0x7f0c0326a9d0>,PyObject <matplotlib.patches.Rectangle object at 0x7f0c0326aed0>,PyObject <matplotlib.patches.Rectangle object at 0x7f0c03276710>,PyObject <matplotlib.patches.Rectangle object at 0x7f0c03276d90>,PyObject <matplotlib.patches.Rectangle object at 0x7f0c03204450>,PyObject <matplotlib.patches.Rectangle object at 0x7f0c03204ad0>,PyObject <matplotlib.patches.Rectangle object at 0x7f0c03204fd0>,PyObject <matplotlib.patches.Rectangle object at 0x7f0c03212810>,PyObject <matplotlib.patches.Rectangle object at 0x7f0c03212e90>,PyObject <matplotlib.patches.Rectangle object at 0x7f0c0321e550>,PyObject <matplotlib.patches.Rectangle object at 0x7f0c0321ebd0>,PyObject <matplotlib.patches.Rectangle object at 0x7f0c0322d290>,PyObject <matplotlib.patches.Rectangle object at 0x7f0c0322d910>,PyObject <matplotlib.patches.Rectangle object at 0x7f0c0322df90>,PyObject <matplotlib.patches.Rectangle object at 0x7f0c0323a650>,PyObject <matplotlib.patches.Rectangle object at 0x7f0c0323acd0>,PyObject <matplotlib.patches.Rectangle object at 0x7f0c031c7390>,PyObject <matplotlib.patches.Rectangle object at 0x7f0c031c7a10>,PyObject <matplotlib.patches.Rectangle object at 0x7f0c031c7f10>,PyObject <matplotlib.patches.Rectangle object at 0x7f0c031d4750>,PyObject <matplotlib.patches.Rectangle object at 0x7f0c031d4dd0>,PyObject <matplotlib.patches.Rectangle object at 0x7f0c031e2490>,PyObject <matplotlib.patches.Rectangle object at 0x7f0c031e2b10>,PyObject <matplotlib.patches.Rectangle object at 0x7f0c031ef1d0>,PyObject <matplotlib.patches.Rectangle object at 0x7f0c031ef850>,PyObject <matplotlib.patches.Rectangle object at 0x7f0c031efed0>,PyObject <matplotlib.patches.Rectangle object at 0x7f0c031fd590>,PyObject <matplotlib.patches.Rectangle object at 0x7f0c031fdc10>,PyObject <matplotlib.patches.Rectangle object at 0x7f0c0318c2d0>,PyObject <matplotlib.patches.Rectangle object at 0x7f0c0318c950>,PyObject <matplotlib.patches.Rectangle object at 0x7f0c0318cfd0>,PyObject <matplotlib.patches.Rectangle object at 0x7f0c03198690>,PyObject <matplotlib.patches.Rectangle object at 0x7f0c03198d10>,PyObject <matplotlib.patches.Rectangle object at 0x7f0c031a43d0>,PyObject <matplotlib.patches.Rectangle object at 0x7f0c031a4a50>,PyObject <matplotlib.patches.Rectangle object at 0x7f0c031a4f50>,PyObject <matplotlib.patches.Rectangle object at 0x7f0c031b2790>,PyObject <matplotlib.patches.Rectangle object at 0x7f0c031b2e10>,PyObject <matplotlib.patches.Rectangle object at 0x7f0c031404d0>,PyObject <matplotlib.patches.Rectangle object at 0x7f0c03140b50>,PyObject <matplotlib.patches.Rectangle object at 0x7f0c0314d210>,PyObject <matplotlib.patches.Rectangle object at 0x7f0c0314d890>,PyObject <matplotlib.patches.Rectangle object at 0x7f0c0314df10>,PyObject <matplotlib.patches.Rectangle object at 0x7f0c0315c5d0>,PyObject <matplotlib.patches.Rectangle object at 0x7f0c0315cc50>,PyObject <matplotlib.patches.Rectangle object at 0x7f0c0316a310>,PyObject <matplotlib.patches.Rectangle object at 0x7f0c0316a990>,PyObject <matplotlib.patches.Rectangle object at 0x7f0c0316ae90>,PyObject <matplotlib.patches.Rectangle object at 0x7f0c031766d0>,PyObject <matplotlib.patches.Rectangle object at 0x7f0c03176d50>,PyObject <matplotlib.patches.Rectangle object at 0x7f0c03104410>,PyObject <matplotlib.patches.Rectangle object at 0x7f0c03104a90>,PyObject <matplotlib.patches.Rectangle object at 0x7f0c03104f90>,PyObject <matplotlib.patches.Rectangle object at 0x7f0c031127d0>,PyObject <matplotlib.patches.Rectangle object at 0x7f0c03112e50>,PyObject <matplotlib.patches.Rectangle object at 0x7f0c03120510>,PyObject <matplotlib.patches.Rectangle object at 0x7f0c03120b90>,PyObject <matplotlib.patches.Rectangle object at 0x7f0c0312d250>,PyObject <matplotlib.patches.Rectangle object at 0x7f0c0312d8d0>,PyObject <matplotlib.patches.Rectangle object at 0x7f0c0312df50>,PyObject <matplotlib.patches.Rectangle object at 0x7f0c0313b610>,PyObject <matplotlib.patches.Rectangle object at 0x7f0c0313bc90>,PyObject <matplotlib.patches.Rectangle object at 0x7f0c030c8350>,PyObject <matplotlib.patches.Rectangle object at 0x7f0c030c89d0>,PyObject <matplotlib.patches.Rectangle object at 0x7f0c030c8ed0>,PyObject <matplotlib.patches.Rectangle object at 0x7f0c030d4710>,PyObject <matplotlib.patches.Rectangle object at 0x7f0c030d4d90>,PyObject <matplotlib.patches.Rectangle object at 0x7f0c030e2450>,PyObject <matplotlib.patches.Rectangle object at 0x7f0c030e2ad0>,PyObject <matplotlib.patches.Rectangle object at 0x7f0c030e2fd0>,PyObject <matplotlib.patches.Rectangle object at 0x7f0c030f1810>,PyObject <matplotlib.patches.Rectangle object at 0x7f0c030f1e90>,PyObject <matplotlib.patches.Rectangle object at 0x7f0c030fc550>,PyObject <matplotlib.patches.Rectangle object at 0x7f0c030fcbd0>,PyObject <matplotlib.patches.Rectangle object at 0x7f0c0308b290>,PyObject <matplotlib.patches.Rectangle object at 0x7f0c0308b910>,PyObject <matplotlib.patches.Rectangle object at 0x7f0c0308bf90>,PyObject <matplotlib.patches.Rectangle object at 0x7f0c03098650>,PyObject <matplotlib.patches.Rectangle object at 0x7f0c03098cd0>,PyObject <matplotlib.patches.Rectangle object at 0x7f0c030a5390>,PyObject <matplotlib.patches.Rectangle object at 0x7f0c030a5a10>,PyObject <matplotlib.patches.Rectangle object at 0x7f0c030a5f10>,PyObject <matplotlib.patches.Rectangle object at 0x7f0c030b2750>,PyObject <matplotlib.patches.Rectangle object at 0x7f0c030b2dd0>,PyObject <matplotlib.patches.Rectangle object at 0x7f0c03041490>,PyObject <matplotlib.patches.Rectangle object at 0x7f0c03041b10>,PyObject <matplotlib.patches.Rectangle object at 0x7f0c0304e1d0>,PyObject <matplotlib.patches.Rectangle object at 0x7f0c0304e850>,PyObject <matplotlib.patches.Rectangle object at 0x7f0c0304eed0>,PyObject <matplotlib.patches.Rectangle object at 0x7f0c0305a590>,PyObject <matplotlib.patches.Rectangle object at 0x7f0c0305ac10>,PyObject <matplotlib.patches.Rectangle object at 0x7f0c030682d0>,PyObject <matplotlib.patches.Rectangle object at 0x7f0c03068950>,PyObject <matplotlib.patches.Rectangle object at 0x7f0c03068fd0>,PyObject <matplotlib.patches.Rectangle object at 0x7f0c03076690>,PyObject <matplotlib.patches.Rectangle object at 0x7f0c03076d10>,PyObject <matplotlib.patches.Rectangle object at 0x7f0c030033d0>,PyObject <matplotlib.patches.Rectangle object at 0x7f0c03003a50>,PyObject <matplotlib.patches.Rectangle object at 0x7f0c03003f50>,PyObject <matplotlib.patches.Rectangle object at 0x7f0c03011790>,PyObject <matplotlib.patches.Rectangle object at 0x7f0c03011e10>,PyObject <matplotlib.patches.Rectangle object at 0x7f0c0301f4d0>,PyObject <matplotlib.patches.Rectangle object at 0x7f0c0301fb50>,PyObject <matplotlib.patches.Rectangle object at 0x7f0c0302e210>,PyObject <matplotlib.patches.Rectangle object at 0x7f0c0302e890>,PyObject <matplotlib.patches.Rectangle object at 0x7f0c0302ef10>,PyObject <matplotlib.patches.Rectangle object at 0x7f0c0303b5d0>,PyObject <matplotlib.patches.Rectangle object at 0x7f0c0303bc50>,PyObject <matplotlib.patches.Rectangle object at 0x7f0c02fc8310>,PyObject <matplotlib.patches.Rectangle object at 0x7f0c02fc8990>,PyObject <matplotlib.patches.Rectangle object at 0x7f0c02fc8e90>,PyObject <matplotlib.patches.Rectangle object at 0x7f0c02fd66d0>,PyObject <matplotlib.patches.Rectangle object at 0x7f0c02fd6d50>,PyObject <matplotlib.patches.Rectangle object at 0x7f0c02fe4410>,PyObject <matplotlib.patches.Rectangle object at 0x7f0c02fe4a90>,PyObject <matplotlib.patches.Rectangle object at 0x7f0c02fe4f90>,PyObject <matplotlib.patches.Rectangle object at 0x7f0c02ff07d0>,PyObject <matplotlib.patches.Rectangle object at 0x7f0c02ff0e50>,PyObject <matplotlib.patches.Rectangle object at 0x7f0c02ffd510>,PyObject <matplotlib.patches.Rectangle object at 0x7f0c02ffdb90>,PyObject <matplotlib.patches.Rectangle object at 0x7f0c02f8c250>,PyObject <matplotlib.patches.Rectangle object at 0x7f0c02f8c8d0>,PyObject <matplotlib.patches.Rectangle object at 0x7f0c02f8cf50>,PyObject <matplotlib.patches.Rectangle object at 0x7f0c02f98610>,PyObject <matplotlib.patches.Rectangle object at 0x7f0c02f98c90>,PyObject <matplotlib.patches.Rectangle object at 0x7f0c02fa7350>,PyObject <matplotlib.patches.Rectangle object at 0x7f0c02fa79d0>,PyObject <matplotlib.patches.Rectangle object at 0x7f0c02fa7ed0>,PyObject <matplotlib.patches.Rectangle object at 0x7f0c02fb5710>,PyObject <matplotlib.patches.Rectangle object at 0x7f0c02fb5d90>,PyObject <matplotlib.patches.Rectangle object at 0x7f0c02f42450>,PyObject <matplotlib.patches.Rectangle object at 0x7f0c02f42ad0>,PyObject <matplotlib.patches.Rectangle object at 0x7f0c02f42fd0>,PyObject <matplotlib.patches.Rectangle object at 0x7f0c02f4f810>,PyObject <matplotlib.patches.Rectangle object at 0x7f0c02f4fe90>,PyObject <matplotlib.patches.Rectangle object at 0x7f0c02f5c550>,PyObject <matplotlib.patches.Rectangle object at 0x7f0c02f5cbd0>,PyObject <matplotlib.patches.Rectangle object at 0x7f0c02f6a290>,PyObject <matplotlib.patches.Rectangle object at 0x7f0c02f6a910>,PyObject <matplotlib.patches.Rectangle object at 0x7f0c02f6af90>,PyObject <matplotlib.patches.Rectangle object at 0x7f0c02f77650>,PyObject <matplotlib.patches.Rectangle object at 0x7f0c02f77cd0>,PyObject <matplotlib.patches.Rectangle object at 0x7f0c02f04390>,PyObject <matplotlib.patches.Rectangle object at 0x7f0c02f04a10>,PyObject <matplotlib.patches.Rectangle object at 0x7f0c02f04f10>,PyObject <matplotlib.patches.Rectangle object at 0x7f0c02f11750>,PyObject <matplotlib.patches.Rectangle object at 0x7f0c02f11dd0>,PyObject <matplotlib.patches.Rectangle object at 0x7f0c02f1f490>,PyObject <matplotlib.patches.Rectangle object at 0x7f0c02f1fb10>,PyObject <matplotlib.patches.Rectangle object at 0x7f0c02f2c1d0>,PyObject <matplotlib.patches.Rectangle object at 0x7f0c02f2c850>,PyObject <matplotlib.patches.Rectangle object at 0x7f0c02f2ced0>,PyObject <matplotlib.patches.Rectangle object at 0x7f0c02f38590>,PyObject <matplotlib.patches.Rectangle object at 0x7f0c02f38c10>,PyObject <matplotlib.patches.Rectangle object at 0x7f0c02ec82d0>,PyObject <matplotlib.patches.Rectangle object at 0x7f0c02ec8950>,PyObject <matplotlib.patches.Rectangle object at 0x7f0c02ec8fd0>,PyObject <matplotlib.patches.Rectangle object at 0x7f0c02ed4690>,PyObject <matplotlib.patches.Rectangle object at 0x7f0c02ed4d10>,PyObject <matplotlib.patches.Rectangle object at 0x7f0c02ee23d0>,PyObject <matplotlib.patches.Rectangle object at 0x7f0c02ee2a50>,PyObject <matplotlib.patches.Rectangle object at 0x7f0c02ee2f50>,PyObject <matplotlib.patches.Rectangle object at 0x7f0c02ef0790>,PyObject <matplotlib.patches.Rectangle object at 0x7f0c02ef0e10>,PyObject <matplotlib.patches.Rectangle object at 0x7f0c02efc4d0>,PyObject <matplotlib.patches.Rectangle object at 0x7f0c02efcb50>,PyObject <matplotlib.patches.Rectangle object at 0x7f0c02e8a210>)"
      ]
     },
     "execution_count": 77,
     "metadata": {},
     "output_type": "execute_result"
    }
   ],
   "source": [
    "bar(range(1, Nb_simu_total), results, color=\"blue\",align=\"center\",alpha=0.4)"
   ]
  },
  {
   "cell_type": "code",
   "execution_count": 78,
   "metadata": {},
   "outputs": [
    {
     "data": {
      "image/png": "[encoded data removed]",
      "text/plain": [
       "PyPlot.Figure(PyObject <matplotlib.figure.Figure object at 0x7f0c04ceddd0>)"
      ]
     },
     "metadata": {},
     "output_type": "display_data"
    },
    {
     "data": {
      "text/plain": [
       "([3.0,8.0,9.0,28.0,40.0,49.0,56.0,55.0,75.0,59.0  …  1.0,4.0,3.0,2.0,0.0,0.0,0.0,1.0,0.0,1.0],[1.0,1.97436,2.94872,3.92308,4.89744,5.87179,6.84615,7.82051,8.79487,9.76923  …  30.2308,31.2051,32.1795,33.1538,34.1282,35.1026,36.0769,37.0513,38.0256,39.0],Any[PyObject <matplotlib.patches.Rectangle object at 0x7f0c03ab2b50>,PyObject <matplotlib.patches.Rectangle object at 0x7f0c03a030d0>,PyObject <matplotlib.patches.Rectangle object at 0x7f0c039c4690>,PyObject <matplotlib.patches.Rectangle object at 0x7f0c039fbf10>,PyObject <matplotlib.patches.Rectangle object at 0x7f0c0395a250>,PyObject <matplotlib.patches.Rectangle object at 0x7f0c0391d810>,PyObject <matplotlib.patches.Rectangle object at 0x7f0c038fb850>,PyObject <matplotlib.patches.Rectangle object at 0x7f0c038b23d0>,PyObject <matplotlib.patches.Rectangle object at 0x7f0c03867c50>,PyObject <matplotlib.patches.Rectangle object at 0x7f0c03875990>  …  PyObject <matplotlib.patches.Rectangle object at 0x7f0c02c9c090>,PyObject <matplotlib.patches.Rectangle object at 0x7f0c0321ecd0>,PyObject <matplotlib.patches.Rectangle object at 0x7f0c0318ca50>,PyObject <matplotlib.patches.Rectangle object at 0x7f0c031405d0>,PyObject <matplotlib.patches.Rectangle object at 0x7f0c03176e50>,PyObject <matplotlib.patches.Rectangle object at 0x7f0c02cba090>,PyObject <matplotlib.patches.Rectangle object at 0x7f0c0308ba10>,PyObject <matplotlib.patches.Rectangle object at 0x7f0c0304efd0>,PyObject <matplotlib.patches.Rectangle object at 0x7f0c0312d350>,PyObject <matplotlib.patches.Rectangle object at 0x7f0c02fe4b90>])"
      ]
     },
     "execution_count": 78,
     "metadata": {},
     "output_type": "execute_result"
    }
   ],
   "source": [
    "h = plt[:hist](results, convert(Int64,maximum(results))) # Histogram\n",
    "#gcf() # Needed for IJulia to plot inline"
   ]
  },
  {
   "cell_type": "code",
   "execution_count": null,
   "metadata": {},
   "outputs": [],
   "source": []
  }
 ],
 "metadata": {
  "kernelspec": {
   "display_name": "Python 3",
   "language": "python",
   "name": "python3"
  },
  "language_info": {
   "codemirror_mode": {
    "name": "ipython",
    "version": 3
   },
   "file_extension": ".py",
   "mimetype": "text/x-python",
   "name": "python",
   "nbconvert_exporter": "python",
   "pygments_lexer": "ipython3",
   "version": "3.7.0"
  }
 },
 "nbformat": 4,
 "nbformat_minor": 2
}
